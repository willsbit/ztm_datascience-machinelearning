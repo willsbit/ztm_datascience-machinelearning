{
 "cells": [
  {
   "cell_type": "code",
   "execution_count": 1,
   "id": "f08b31b2-6e64-4536-b5c1-901d49a1a8d6",
   "metadata": {},
   "outputs": [],
   "source": [
    "import numpy as np"
   ]
  },
  {
   "cell_type": "code",
   "execution_count": 8,
   "id": "ee2c9593-7a6d-4465-b7a0-96615961ac9b",
   "metadata": {},
   "outputs": [],
   "source": [
    "a1 = np.array([1, 2, 3])"
   ]
  },
  {
   "cell_type": "code",
   "execution_count": 20,
   "id": "391c6180-f8af-4a67-9cbd-b3726f10cc07",
   "metadata": {},
   "outputs": [],
   "source": [
    "ones = np.ones([2,3])\n",
    "zeros = np.zeros((5,5))"
   ]
  },
  {
   "cell_type": "code",
   "execution_count": 28,
   "id": "7a6870a1-8d02-4709-bf5f-d48af36d8832",
   "metadata": {},
   "outputs": [],
   "source": [
    "range_array = np.arange(11, 0, -1)"
   ]
  },
  {
   "cell_type": "code",
   "execution_count": 33,
   "id": "52d97f68-3fc3-4665-84f6-6c9b045d6865",
   "metadata": {},
   "outputs": [],
   "source": [
    "random_array = np.random.randint(0, 2, size=(3,5))"
   ]
  },
  {
   "cell_type": "code",
   "execution_count": 40,
   "id": "ea9a6bce-f7d3-4704-b650-f50fb9c6775d",
   "metadata": {},
   "outputs": [],
   "source": [
    "random_array2 = np.random.random((5,3))"
   ]
  },
  {
   "cell_type": "code",
   "execution_count": 52,
   "id": "1c619c06-8d95-46ac-a768-42e0f8744a80",
   "metadata": {},
   "outputs": [],
   "source": [
    "random_array3 = np.random.rand(2, 2)"
   ]
  },
  {
   "cell_type": "code",
   "execution_count": 53,
   "id": "0ac9df75-104b-4681-8140-0fa0350979ef",
   "metadata": {},
   "outputs": [
    {
     "data": {
      "text/plain": [
       "array([[0.22199317, 0.87073231],\n",
       "       [0.20671916, 0.91861091]])"
      ]
     },
     "execution_count": 53,
     "metadata": {},
     "output_type": "execute_result"
    }
   ],
   "source": [
    "random_array3"
   ]
  },
  {
   "cell_type": "code",
   "execution_count": 28,
   "id": "e760c3b5-78df-4e52-98a9-0a6176e94bde",
   "metadata": {},
   "outputs": [
    {
     "data": {
      "text/plain": [
       "array([[3, 6, 6],\n",
       "       [0, 9, 8],\n",
       "       [4, 7, 0],\n",
       "       [0, 7, 1],\n",
       "       [5, 7, 0]])"
      ]
     },
     "execution_count": 28,
     "metadata": {},
     "output_type": "execute_result"
    }
   ],
   "source": [
    "# Pseudo-random numbers\n",
    "np.random.seed(5)\n",
    "\n",
    "a4 = np.random.randint(10, size=(5,3))\n",
    "a4"
   ]
  },
  {
   "cell_type": "markdown",
   "id": "52762faf-1d01-44dd-97e3-9750c6c5629f",
   "metadata": {
    "tags": []
   },
   "source": [
    "## Viewing arrays and matrices"
   ]
  },
  {
   "cell_type": "code",
   "execution_count": 29,
   "id": "2a13a8c9-bad4-4a33-b2ca-b0c7b99c474d",
   "metadata": {},
   "outputs": [
    {
     "data": {
      "text/plain": [
       "array([0, 1, 3, 4, 5, 6, 7, 8, 9])"
      ]
     },
     "execution_count": 29,
     "metadata": {},
     "output_type": "execute_result"
    }
   ],
   "source": [
    "np.unique(a4)"
   ]
  },
  {
   "cell_type": "code",
   "execution_count": 31,
   "id": "53987b7d-28b4-483f-bc95-38f469880ab0",
   "metadata": {
    "tags": []
   },
   "outputs": [
    {
     "data": {
      "text/plain": [
       "3"
      ]
     },
     "execution_count": 31,
     "metadata": {},
     "output_type": "execute_result"
    }
   ],
   "source": [
    "a4[0][0]"
   ]
  },
  {
   "cell_type": "code",
   "execution_count": 41,
   "id": "5856d4f1-c3b7-437e-b84a-68ff71cf0223",
   "metadata": {
    "tags": []
   },
   "outputs": [
    {
     "data": {
      "text/plain": [
       "array([[3, 6, 6],\n",
       "       [0, 9, 8]])"
      ]
     },
     "execution_count": 41,
     "metadata": {},
     "output_type": "execute_result"
    }
   ],
   "source": [
    "a4[:2, :3]"
   ]
  },
  {
   "cell_type": "code",
   "execution_count": 42,
   "id": "5185ca47-c645-4a0a-8595-9c8e0b515bea",
   "metadata": {},
   "outputs": [
    {
     "data": {
      "text/plain": [
       "array([3, 6, 6])"
      ]
     },
     "execution_count": 42,
     "metadata": {},
     "output_type": "execute_result"
    }
   ],
   "source": [
    "a4[0][:4]"
   ]
  },
  {
   "cell_type": "code",
   "execution_count": 43,
   "id": "fe6688b8-7515-4d11-8a43-eb6ce4ec2401",
   "metadata": {},
   "outputs": [],
   "source": [
    "a5 = np.random.randint(10, size=(2, 3, 4, 5))"
   ]
  },
  {
   "cell_type": "code",
   "execution_count": 45,
   "id": "c9a7995e-ee31-493f-803e-ce6882835c8d",
   "metadata": {},
   "outputs": [
    {
     "data": {
      "text/plain": [
       "array([[[[1, 4, 6, 2, 9],\n",
       "         [9, 9, 9, 1, 2],\n",
       "         [7, 0, 5, 0, 0],\n",
       "         [4, 4, 9, 3, 2]],\n",
       "\n",
       "        [[4, 6, 9, 3, 3],\n",
       "         [2, 1, 5, 7, 4],\n",
       "         [3, 1, 7, 3, 1],\n",
       "         [9, 5, 7, 0, 9]],\n",
       "\n",
       "        [[6, 0, 5, 2, 8],\n",
       "         [6, 8, 0, 5, 2],\n",
       "         [0, 7, 7, 6, 0],\n",
       "         [0, 8, 5, 5, 9]]],\n",
       "\n",
       "\n",
       "       [[[6, 4, 5, 2, 8],\n",
       "         [8, 1, 6, 3, 4],\n",
       "         [1, 8, 0, 2, 2],\n",
       "         [4, 1, 6, 3, 4]],\n",
       "\n",
       "        [[3, 1, 4, 2, 3],\n",
       "         [4, 9, 4, 0, 6],\n",
       "         [6, 9, 2, 9, 3],\n",
       "         [0, 8, 8, 9, 7]],\n",
       "\n",
       "        [[4, 8, 6, 8, 0],\n",
       "         [5, 3, 4, 0, 2],\n",
       "         [2, 1, 1, 7, 1],\n",
       "         [7, 2, 6, 3, 6]]]])"
      ]
     },
     "execution_count": 45,
     "metadata": {},
     "output_type": "execute_result"
    }
   ],
   "source": [
    "a5 # o size é mostrado de trás pra frente: 5 colunas, 4 linhas, 3 matrizes e 2 grupos de matrizes"
   ]
  },
  {
   "cell_type": "code",
   "execution_count": 51,
   "id": "9babdc60-a873-46c5-b549-41ba7e90b392",
   "metadata": {},
   "outputs": [],
   "source": [
    "# first 4 numbers of innermost arrays "
   ]
  },
  {
   "cell_type": "code",
   "execution_count": 52,
   "id": "f53323f0-d1c1-420e-8525-9f350819e4c0",
   "metadata": {},
   "outputs": [
    {
     "data": {
      "text/plain": [
       "array([[[[1, 4, 6, 2],\n",
       "         [9, 9, 9, 1],\n",
       "         [7, 0, 5, 0],\n",
       "         [4, 4, 9, 3]],\n",
       "\n",
       "        [[4, 6, 9, 3],\n",
       "         [2, 1, 5, 7],\n",
       "         [3, 1, 7, 3],\n",
       "         [9, 5, 7, 0]],\n",
       "\n",
       "        [[6, 0, 5, 2],\n",
       "         [6, 8, 0, 5],\n",
       "         [0, 7, 7, 6],\n",
       "         [0, 8, 5, 5]]],\n",
       "\n",
       "\n",
       "       [[[6, 4, 5, 2],\n",
       "         [8, 1, 6, 3],\n",
       "         [1, 8, 0, 2],\n",
       "         [4, 1, 6, 3]],\n",
       "\n",
       "        [[3, 1, 4, 2],\n",
       "         [4, 9, 4, 0],\n",
       "         [6, 9, 2, 9],\n",
       "         [0, 8, 8, 9]],\n",
       "\n",
       "        [[4, 8, 6, 8],\n",
       "         [5, 3, 4, 0],\n",
       "         [2, 1, 1, 7],\n",
       "         [7, 2, 6, 3]]]])"
      ]
     },
     "execution_count": 52,
     "metadata": {},
     "output_type": "execute_result"
    }
   ],
   "source": [
    "a5[:, :, :, :4]"
   ]
  },
  {
   "cell_type": "markdown",
   "id": "e8a1d151-5338-4139-97e5-465aca35635b",
   "metadata": {},
   "source": [
    "## Manipulando e comparando arrays"
   ]
  },
  {
   "cell_type": "code",
   "execution_count": 3,
   "id": "049e6ff4-2cd1-4c99-9633-945b5f4ab846",
   "metadata": {},
   "outputs": [],
   "source": [
    "a1 = np.array([1,2,3])\n",
    "ones = np.ones(3)"
   ]
  },
  {
   "cell_type": "code",
   "execution_count": 4,
   "id": "c47d692f-56b4-4576-ab76-3599f517d54d",
   "metadata": {},
   "outputs": [
    {
     "data": {
      "text/plain": [
       "array([2., 3., 4.])"
      ]
     },
     "execution_count": 4,
     "metadata": {},
     "output_type": "execute_result"
    }
   ],
   "source": [
    "a1 + ones"
   ]
  },
  {
   "cell_type": "code",
   "execution_count": 5,
   "id": "52f7994f-8f69-4fe2-a352-340d37f660a7",
   "metadata": {},
   "outputs": [
    {
     "data": {
      "text/plain": [
       "array([0., 1., 2.])"
      ]
     },
     "execution_count": 5,
     "metadata": {},
     "output_type": "execute_result"
    }
   ],
   "source": [
    "a1 - ones"
   ]
  },
  {
   "cell_type": "code",
   "execution_count": 9,
   "id": "73cbd929-ab1d-416b-9f98-6f077d0998e1",
   "metadata": {
    "tags": []
   },
   "outputs": [
    {
     "data": {
      "text/plain": [
       "array([1., 2., 3.])"
      ]
     },
     "execution_count": 9,
     "metadata": {},
     "output_type": "execute_result"
    }
   ],
   "source": [
    "a1 * ones"
   ]
  },
  {
   "cell_type": "code",
   "execution_count": 12,
   "id": "4639ce89-6155-4e94-9f4b-83a488a46a7c",
   "metadata": {},
   "outputs": [
    {
     "data": {
      "text/plain": [
       "array([1., 2., 3.])"
      ]
     },
     "execution_count": 12,
     "metadata": {},
     "output_type": "execute_result"
    }
   ],
   "source": [
    "a1 / ones"
   ]
  },
  {
   "cell_type": "code",
   "execution_count": 14,
   "id": "bdf97aea-969f-47fd-b59a-92b78cd8a36f",
   "metadata": {},
   "outputs": [
    {
     "data": {
      "text/plain": [
       "array([  1,  32, 243], dtype=int32)"
      ]
     },
     "execution_count": 14,
     "metadata": {},
     "output_type": "execute_result"
    }
   ],
   "source": [
    "a1 ** 5"
   ]
  },
  {
   "cell_type": "code",
   "execution_count": 16,
   "id": "95035abc-8ed0-4377-94d0-4868da98a6b1",
   "metadata": {},
   "outputs": [
    {
     "data": {
      "text/plain": [
       "array([ 1.        +0.j        , -3.79169579-1.27398707j,\n",
       "        6.33381591-6.39396403j])"
      ]
     },
     "execution_count": 16,
     "metadata": {},
     "output_type": "execute_result"
    }
   ],
   "source": [
    "a1 ** (2+5j)"
   ]
  },
  {
   "cell_type": "code",
   "execution_count": 17,
   "id": "04fad7ef-7b41-47f6-9b62-d0b29e6cffb4",
   "metadata": {},
   "outputs": [
    {
     "data": {
      "text/plain": [
       "array([1, 0, 1], dtype=int32)"
      ]
     },
     "execution_count": 17,
     "metadata": {},
     "output_type": "execute_result"
    }
   ],
   "source": [
    "a1 % 2"
   ]
  },
  {
   "cell_type": "code",
   "execution_count": 18,
   "id": "7a9ce2c4-03aa-4043-8d6a-35a6f86e0a8f",
   "metadata": {},
   "outputs": [
    {
     "data": {
      "text/plain": [
       "array([0.        , 0.69314718, 1.09861229])"
      ]
     },
     "execution_count": 18,
     "metadata": {},
     "output_type": "execute_result"
    }
   ],
   "source": [
    "np.log(a1)"
   ]
  },
  {
   "cell_type": "code",
   "execution_count": 25,
   "id": "6824e775-f960-492b-92a7-ef798a9aa013",
   "metadata": {},
   "outputs": [
    {
     "data": {
      "text/plain": [
       "array([ 2.71828183,  7.3890561 , 20.08553692])"
      ]
     },
     "execution_count": 25,
     "metadata": {},
     "output_type": "execute_result"
    }
   ],
   "source": [
    "np.exp(a1)"
   ]
  },
  {
   "cell_type": "markdown",
   "id": "c3715422-2cfe-450c-a576-de5b740af042",
   "metadata": {},
   "source": [
    "### Agregação"
   ]
  },
  {
   "cell_type": "code",
   "execution_count": 26,
   "id": "1ea39ce7-5947-4b5a-b91e-d0483848a248",
   "metadata": {},
   "outputs": [
    {
     "data": {
      "text/plain": [
       "6"
      ]
     },
     "execution_count": 26,
     "metadata": {},
     "output_type": "execute_result"
    }
   ],
   "source": [
    "a1.sum()"
   ]
  },
  {
   "cell_type": "code",
   "execution_count": 28,
   "id": "d0ccf361-3f8b-46db-93a0-40bd4de1b9eb",
   "metadata": {},
   "outputs": [
    {
     "data": {
      "text/plain": [
       "3.0"
      ]
     },
     "execution_count": 28,
     "metadata": {},
     "output_type": "execute_result"
    }
   ],
   "source": [
    "ones.sum()"
   ]
  },
  {
   "cell_type": "code",
   "execution_count": 29,
   "id": "9fe369d3-c69f-4341-9c32-a316afb0b100",
   "metadata": {},
   "outputs": [],
   "source": [
    "massive_array = np.random.random(100000)"
   ]
  },
  {
   "cell_type": "code",
   "execution_count": 33,
   "id": "cbfe30b5-7deb-406f-b0f2-a4a6e227ab53",
   "metadata": {},
   "outputs": [
    {
     "data": {
      "text/plain": [
       "array([0.929368  , 0.13792819, 0.86796816, 0.079489  , 0.19975025,\n",
       "       0.20256918, 0.69149665, 0.10399685, 0.75296673, 0.80593435,\n",
       "       0.22407691, 0.89054772, 0.16220034, 0.7108984 , 0.05486504,\n",
       "       0.2331452 , 0.52809429, 0.23690621, 0.72179747, 0.98278826])"
      ]
     },
     "execution_count": 33,
     "metadata": {},
     "output_type": "execute_result"
    }
   ],
   "source": [
    "massive_array[:20]"
   ]
  },
  {
   "cell_type": "code",
   "execution_count": 37,
   "id": "875b5d3c-ab18-4e7c-9bb5-1537cd3cccd8",
   "metadata": {},
   "outputs": [
    {
     "name": "stdout",
     "output_type": "stream",
     "text": [
      "10.8 ms ± 1.31 ms per loop (mean ± std. dev. of 7 runs, 100 loops each)\n",
      "66.8 µs ± 8.8 µs per loop (mean ± std. dev. of 7 runs, 10,000 loops each)\n"
     ]
    }
   ],
   "source": [
    "%timeit sum(massive_array)\n",
    "%timeit np.sum(massive_array)"
   ]
  },
  {
   "cell_type": "code",
   "execution_count": 42,
   "id": "0854504f-ef21-4a1c-a747-199dac89d008",
   "metadata": {},
   "outputs": [
    {
     "data": {
      "text/plain": [
       "0.49977943974001543"
      ]
     },
     "execution_count": 42,
     "metadata": {},
     "output_type": "execute_result"
    }
   ],
   "source": [
    "np.mean(massive_array)"
   ]
  },
  {
   "cell_type": "code",
   "execution_count": 44,
   "id": "38f66024-f53a-4cbe-af36-43b76a6f1b85",
   "metadata": {},
   "outputs": [
    {
     "data": {
      "text/plain": [
       "0.9999894181090232"
      ]
     },
     "execution_count": 44,
     "metadata": {},
     "output_type": "execute_result"
    }
   ],
   "source": [
    "np.max(massive_array)\n",
    "np.min(massive_array)"
   ]
  },
  {
   "cell_type": "code",
   "execution_count": 58,
   "id": "599dfd00-fd59-44bb-b054-909ad7d6770f",
   "metadata": {},
   "outputs": [
    {
     "data": {
      "text/plain": [
       "(0.08341769180517182, 0.28882121079514195)"
      ]
     },
     "execution_count": 58,
     "metadata": {},
     "output_type": "execute_result"
    }
   ],
   "source": [
    "np.var(massive_array), np.std(massive_array)"
   ]
  },
  {
   "cell_type": "code",
   "execution_count": 52,
   "id": "ff4a09db-c7ed-42b5-a1a8-b5f6c0355973",
   "metadata": {},
   "outputs": [
    {
     "data": {
      "text/plain": [
       "<function matplotlib.pyplot.show(close=None, block=None)>"
      ]
     },
     "execution_count": 52,
     "metadata": {},
     "output_type": "execute_result"
    },
    {
     "data": {
      "image/png": "[encoded data removed]",
      "text/plain": [
       "<Figure size 432x288 with 1 Axes>"
      ]
     },
     "metadata": {
      "needs_background": "light"
     },
     "output_type": "display_data"
    }
   ],
   "source": [
    "%matplotlib inline\n",
    "import matplotlib.pyplot as plt\n",
    "\n",
    "plt.hist(a1)\n",
    "plt.show"
   ]
  },
  {
   "cell_type": "markdown",
   "id": "edb857e1-2890-4240-8867-2374cc4b8b1c",
   "metadata": {},
   "source": [
    "### Reshape and transpose"
   ]
  },
  {
   "cell_type": "code",
   "execution_count": 62,
   "id": "feeeb071-f63e-4b70-9364-7e5e41a5d4a0",
   "metadata": {},
   "outputs": [],
   "source": [
    "a2 = np.random.randint(10, size=(2,3))\n",
    "a3 = np.random.randint(10, size=(2,3,3))"
   ]
  },
  {
   "cell_type": "code",
   "execution_count": null,
   "id": "bf95b661-072d-4cf2-9e7b-444a48a842ec",
   "metadata": {},
   "outputs": [],
   "source": [
    "a2 * a3 ## shape broadcast error"
   ]
  },
  {
   "cell_type": "code",
   "execution_count": 73,
   "id": "ac40310f-ab1b-43fa-995f-c0491e27831d",
   "metadata": {},
   "outputs": [],
   "source": [
    "a2_reshape = a2.reshape(2, 3, 1)"
   ]
  },
  {
   "cell_type": "code",
   "execution_count": 74,
   "id": "14fabe4a-fb21-4890-88c4-3f691c7bf9f7",
   "metadata": {},
   "outputs": [
    {
     "data": {
      "text/plain": [
       "array([[[72, 48, 72],\n",
       "        [ 0,  0,  0],\n",
       "        [12, 18, 21]],\n",
       "\n",
       "       [[36, 36, 54],\n",
       "        [35, 25, 40],\n",
       "        [25, 20, 15]]])"
      ]
     },
     "execution_count": 74,
     "metadata": {},
     "output_type": "execute_result"
    }
   ],
   "source": [
    "a2_reshape * a3"
   ]
  },
  {
   "cell_type": "code",
   "execution_count": 81,
   "id": "cab262c3-94fd-4461-836a-cbe5ad10e3bf",
   "metadata": {},
   "outputs": [
    {
     "data": {
      "text/plain": [
       "array([[8, 9],\n",
       "       [0, 5],\n",
       "       [3, 5]])"
      ]
     },
     "execution_count": 81,
     "metadata": {},
     "output_type": "execute_result"
    }
   ],
   "source": [
    "a2.T"
   ]
  },
  {
   "cell_type": "markdown",
   "id": "dfc2d4f2-a2bc-41cf-8884-29d7bd5e8739",
   "metadata": {},
   "source": [
    "### Dot product"
   ]
  },
  {
   "cell_type": "code",
   "execution_count": 86,
   "id": "596d2afc-469f-4636-9080-e88aec64a51c",
   "metadata": {},
   "outputs": [],
   "source": [
    "mat1 = np.random.randint(10, size=(5, 3))\n",
    "mat2 = np.random.randint(10, size=(5, 3))"
   ]
  },
  {
   "cell_type": "code",
   "execution_count": 91,
   "id": "125098fb-8af6-450b-a92c-443f507ae936",
   "metadata": {},
   "outputs": [
    {
     "data": {
      "text/plain": [
       "array([[92, 85, 75, 66, 90],\n",
       "       [46, 41, 15, 36, 39],\n",
       "       [67, 64, 90, 43, 76],\n",
       "       [65, 60, 78, 41, 77],\n",
       "       [49, 45, 21, 39, 39]])"
      ]
     },
     "execution_count": 91,
     "metadata": {},
     "output_type": "execute_result"
    }
   ],
   "source": [
    "mat1.dot(mat2.T)"
   ]
  },
  {
   "cell_type": "code",
   "execution_count": 92,
   "id": "a099837e-b63a-4ce9-b217-0c1fc879abaf",
   "metadata": {},
   "outputs": [
    {
     "data": {
      "text/plain": [
       "array([[ 41,  88,  84],\n",
       "       [ 72, 124, 126],\n",
       "       [ 53,  98, 138]])"
      ]
     },
     "execution_count": 92,
     "metadata": {},
     "output_type": "execute_result"
    }
   ],
   "source": [
    "mat1.T.dot(mat2)"
   ]
  }
 ],
 "metadata": {
  "kernelspec": {
   "display_name": "Python 3 (ipykernel)",
   "language": "python",
   "name": "python3"
  },
  "language_info": {
   "codemirror_mode": {
    "name": "ipython",
    "version": 3
   },
   "file_extension": ".py",
   "mimetype": "text/x-python",
   "name": "python",
   "nbconvert_exporter": "python",
   "pygments_lexer": "ipython3",
   "version": "3.9.7"
  }
 },
 "nbformat": 4,
 "nbformat_minor": 5
}
