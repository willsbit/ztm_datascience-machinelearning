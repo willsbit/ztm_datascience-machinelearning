{
 "cells": [
  {
   "cell_type": "markdown",
   "id": "15d943a3-7c37-41ad-8455-347213a1ecde",
   "metadata": {
    "jp-MarkdownHeadingCollapsed": true,
    "tags": []
   },
   "source": [
    "#### Conteúdos\n",
    "0. sklearn workflow\n",
    "1. preparar dados\n",
    "2. escolher o modelo\n",
    "3. treinar o modelo e fazer previsões nos dados\n",
    "4. avaliar o modelo\n",
    "5. ajustar o modelo\n",
    "6. salvar e carregar um modelo\n",
    "7. juntar tudo"
   ]
  },
  {
   "cell_type": "markdown",
   "id": "449af907-6598-4759-a1dd-4b1cc255ae0e",
   "metadata": {},
   "source": [
    "## 1. preparar dados"
   ]
  },
  {
   "cell_type": "code",
   "execution_count": 1,
   "id": "67d3bdb6-62d4-49e7-ab0a-6dc44e6c80e6",
   "metadata": {},
   "outputs": [],
   "source": [
    "import pandas as pd\n",
    "import numpy as np\n",
    "heart_disease = pd.read_csv('heart-disease.csv')\n",
    "\n",
    "X = heart_disease.drop('target', axis=1)\n",
    "y = heart_disease['target']"
   ]
  },
  {
   "cell_type": "markdown",
   "id": "ed1deb86-a73d-46e2-b65d-0093974ee91a",
   "metadata": {},
   "source": [
    "## 2. escolher o modelo"
   ]
  },
  {
   "cell_type": "code",
   "execution_count": 2,
   "id": "8e02ae44-c116-46d8-abfe-4ff0ec9e47a4",
   "metadata": {},
   "outputs": [],
   "source": [
    "from sklearn.ensemble import RandomForestClassifier\n",
    "clf = RandomForestClassifier()"
   ]
  },
  {
   "cell_type": "markdown",
   "id": "36259930-9bf0-400a-99b2-c5951bc73cd5",
   "metadata": {},
   "source": [
    "## 3. treinar o modelo e fazer previsões nos dados"
   ]
  },
  {
   "cell_type": "code",
   "execution_count": 3,
   "id": "242f92a9-6193-4536-8026-6c9ee2bbc263",
   "metadata": {},
   "outputs": [],
   "source": [
    "from sklearn.model_selection import train_test_split\n",
    "\n",
    "X_train, X_test, y_train, y_test = train_test_split(X, y, test_size=0.2)"
   ]
  },
  {
   "cell_type": "code",
   "execution_count": 4,
   "id": "bdf0491b-3c24-4e0a-ad55-dd99aca4b591",
   "metadata": {},
   "outputs": [],
   "source": [
    "clf.fit(X_train, y_train);"
   ]
  },
  {
   "cell_type": "code",
   "execution_count": 5,
   "id": "325ebbb8-0551-467e-99ba-19c799edda32",
   "metadata": {},
   "outputs": [],
   "source": [
    "# fazer uma previsão\n",
    "y_preds = clf.predict(X_test)"
   ]
  },
  {
   "cell_type": "markdown",
   "id": "bb372e24-8df6-4d86-abb6-13f39d52efda",
   "metadata": {},
   "source": [
    "## 4. avaliar o modelo"
   ]
  },
  {
   "cell_type": "code",
   "execution_count": 6,
   "id": "ea927a7d-6fc8-4d1a-806a-f532e39f0fa4",
   "metadata": {},
   "outputs": [
    {
     "data": {
      "text/plain": [
       "1.0"
      ]
     },
     "execution_count": 6,
     "metadata": {},
     "output_type": "execute_result"
    }
   ],
   "source": [
    "# avaliar o modelo no conjunto de treinamento e teste\n",
    "clf.score(X_train, y_train)"
   ]
  },
  {
   "cell_type": "code",
   "execution_count": 7,
   "id": "6a9dc5b0-9327-4d32-875a-993cdb168ed8",
   "metadata": {},
   "outputs": [
    {
     "data": {
      "text/plain": [
       "0.7704918032786885"
      ]
     },
     "execution_count": 7,
     "metadata": {},
     "output_type": "execute_result"
    }
   ],
   "source": [
    "clf.score(X_test, y_test)"
   ]
  },
  {
   "cell_type": "code",
   "execution_count": 8,
   "id": "d2bc3074-5ee0-4d18-9eb5-0ed6c69db84e",
   "metadata": {},
   "outputs": [
    {
     "name": "stdout",
     "output_type": "stream",
     "text": [
      "              precision    recall  f1-score   support\n",
      "\n",
      "           0       0.77      0.71      0.74        28\n",
      "           1       0.77      0.82      0.79        33\n",
      "\n",
      "    accuracy                           0.77        61\n",
      "   macro avg       0.77      0.77      0.77        61\n",
      "weighted avg       0.77      0.77      0.77        61\n",
      "\n"
     ]
    }
   ],
   "source": [
    "from sklearn.metrics import classification_report, confusion_matrix, accuracy_score\n",
    "\n",
    "print(classification_report(y_test, y_preds))"
   ]
  },
  {
   "cell_type": "code",
   "execution_count": 9,
   "id": "67be6789-fc08-49c4-99be-766cee6e48c7",
   "metadata": {},
   "outputs": [
    {
     "data": {
      "text/plain": [
       "array([[20,  8],\n",
       "       [ 6, 27]], dtype=int64)"
      ]
     },
     "execution_count": 9,
     "metadata": {},
     "output_type": "execute_result"
    }
   ],
   "source": [
    "confusion_matrix(y_test, y_preds)"
   ]
  },
  {
   "cell_type": "code",
   "execution_count": 10,
   "id": "8bd374e9-eb66-498e-a3b6-987ead794642",
   "metadata": {},
   "outputs": [
    {
     "data": {
      "text/plain": [
       "0.7704918032786885"
      ]
     },
     "execution_count": 10,
     "metadata": {},
     "output_type": "execute_result"
    }
   ],
   "source": [
    "accuracy_score(y_test, y_preds)"
   ]
  },
  {
   "cell_type": "markdown",
   "id": "5ee4d1c6-009e-499f-b829-d276afa57b3a",
   "metadata": {},
   "source": [
    "## 5. ajustar o modelo"
   ]
  },
  {
   "cell_type": "code",
   "execution_count": 11,
   "id": "38f2cff0-f694-47cd-921c-87dc3e8095cf",
   "metadata": {},
   "outputs": [
    {
     "name": "stdout",
     "output_type": "stream",
     "text": [
      "Trying model with 10 estimators\n",
      "Model accuracy on test set: 75.41% \n",
      "\n",
      "Trying model with 20 estimators\n",
      "Model accuracy on test set: 78.69% \n",
      "\n",
      "Trying model with 30 estimators\n",
      "Model accuracy on test set: 81.97% \n",
      "\n",
      "Trying model with 40 estimators\n",
      "Model accuracy on test set: 78.69% \n",
      "\n",
      "Trying model with 50 estimators\n",
      "Model accuracy on test set: 78.69% \n",
      "\n",
      "Trying model with 60 estimators\n",
      "Model accuracy on test set: 77.05% \n",
      "\n",
      "Trying model with 70 estimators\n",
      "Model accuracy on test set: 77.05% \n",
      "\n",
      "Trying model with 80 estimators\n",
      "Model accuracy on test set: 75.41% \n",
      "\n",
      "Trying model with 90 estimators\n",
      "Model accuracy on test set: 78.69% \n",
      "\n"
     ]
    }
   ],
   "source": [
    "np.random.seed(42)\n",
    "\n",
    "for i in range(10, 100, 10):\n",
    "    print(f'Trying model with {i} estimators')\n",
    "    clf = RandomForestClassifier(n_estimators=i).fit(X_train, y_train)\n",
    "    print(f'Model accuracy on test set: {clf.score(X_test, y_test) * 100:.2f}% \\n')"
   ]
  },
  {
   "cell_type": "markdown",
   "id": "276767bd-6816-40bb-8e71-6c858214e384",
   "metadata": {},
   "source": [
    "## 6. salvar e carregar um modelo"
   ]
  },
  {
   "cell_type": "code",
   "execution_count": 12,
   "id": "4db09a31-b956-4367-842e-325f3dafcaa4",
   "metadata": {},
   "outputs": [],
   "source": [
    "import pickle\n",
    "\n",
    "pickle.dump(clf, open('random_forest_model_1.pkl', 'wb'))"
   ]
  },
  {
   "cell_type": "code",
   "execution_count": 13,
   "id": "b61f51f7-a700-464e-8e5d-f152ed7055f1",
   "metadata": {},
   "outputs": [
    {
     "data": {
      "text/plain": [
       "0.7868852459016393"
      ]
     },
     "execution_count": 13,
     "metadata": {},
     "output_type": "execute_result"
    }
   ],
   "source": [
    "loaded_model = pickle.load(open(\"random_forest_model_1.pkl\", 'rb'))\n",
    "\n",
    "loaded_model.score(X_test, y_test)"
   ]
  },
  {
   "cell_type": "markdown",
   "id": "33355a4b-d1fb-499e-8e77-cedd0c8ce045",
   "metadata": {},
   "source": [
    "## 1. preparar dados (em detalhes)\n",
    "\n",
    "1. Dividir os dados em X e y\n",
    "2. Converter valores não numéricos em valores numéricos (feature encoding)\n",
    "3. Preencher (imputing) ou eliminar valores nulos"
   ]
  },
  {
   "cell_type": "code",
   "execution_count": 14,
   "id": "ddc58dd6-362c-4de2-a6f1-511d5f9901c1",
   "metadata": {
    "tags": []
   },
   "outputs": [],
   "source": [
    "car_sales = pd.read_csv('scikit-learn-data/car-sales-extended.csv')\n",
    "\n",
    "X = car_sales.drop('Price', axis=1)\n",
    "y = car_sales['Price']"
   ]
  },
  {
   "cell_type": "code",
   "execution_count": 15,
   "id": "5b7356bd-60dd-4f3c-bdf4-cc654e3c6982",
   "metadata": {},
   "outputs": [],
   "source": [
    "# transformar categorias em números\n",
    "\n",
    "from sklearn.preprocessing import OneHotEncoder\n",
    "from sklearn.compose import ColumnTransformer\n",
    "\n",
    "categorcal_features = [\"Make\", \"Colour\", \"Doors\"]\n",
    "one_hot = OneHotEncoder()\n",
    "transformer = ColumnTransformer([(\"one_hot\", \n",
    "                                   one_hot,\n",
    "                                   categorcal_features)],\n",
    "                                   remainder=\"passthrough\")\n",
    "\n",
    "transformed_X = transformer.fit_transform(X)\n",
    "\n",
    "X_train, X_test, y_train, y_test = train_test_split(transformed_X, y, test_size=0.2)"
   ]
  },
  {
   "cell_type": "code",
   "execution_count": 16,
   "id": "22dad0f5-0de8-4af8-8d5b-8f9ee6092ecc",
   "metadata": {
    "tags": []
   },
   "outputs": [
    {
     "data": {
      "text/plain": [
       "0.26736090731866047"
      ]
     },
     "execution_count": 16,
     "metadata": {},
     "output_type": "execute_result"
    }
   ],
   "source": [
    "from sklearn.ensemble import RandomForestRegressor\n",
    "\n",
    "np.random.seed(42)\n",
    "model = RandomForestRegressor()\n",
    "model.fit(X_train, y_train)\n",
    "model.score(X_test, y_test)"
   ]
  },
  {
   "cell_type": "markdown",
   "id": "ff61a879-de76-45df-ad60-acaced184d0d",
   "metadata": {},
   "source": [
    "### 1.3.2 trabalhando com datasets com dados faltantes"
   ]
  },
  {
   "cell_type": "code",
   "execution_count": 17,
   "id": "b7cea5ae-a088-4c2c-b379-1998f5ef1a0b",
   "metadata": {
    "tags": []
   },
   "outputs": [],
   "source": [
    "# Standard imports\n",
    "import numpy as np\n",
    "import pandas as pd\n",
    "import matplotlib.pyplot as plt\n",
    "%matplotlib inline"
   ]
  },
  {
   "cell_type": "code",
   "execution_count": 18,
   "id": "e0d00f81-34c4-4239-9c66-6620a74971de",
   "metadata": {},
   "outputs": [
    {
     "data": {
      "text/html": [
       "<div>\n",
       "<style scoped>\n",
       "    .dataframe tbody tr th:only-of-type {\n",
       "        vertical-align: middle;\n",
       "    }\n",
       "\n",
       "    .dataframe tbody tr th {\n",
       "        vertical-align: top;\n",
       "    }\n",
       "\n",
       "    .dataframe thead th {\n",
       "        text-align: right;\n",
       "    }\n",
       "</style>\n",
       "<table border=\"1\" class=\"dataframe\">\n",
       "  <thead>\n",
       "    <tr style=\"text-align: right;\">\n",
       "      <th></th>\n",
       "      <th>Make</th>\n",
       "      <th>Colour</th>\n",
       "      <th>Odometer (KM)</th>\n",
       "      <th>Doors</th>\n",
       "      <th>Price</th>\n",
       "    </tr>\n",
       "  </thead>\n",
       "  <tbody>\n",
       "    <tr>\n",
       "      <th>0</th>\n",
       "      <td>Honda</td>\n",
       "      <td>White</td>\n",
       "      <td>35431.0</td>\n",
       "      <td>4.0</td>\n",
       "      <td>15323.0</td>\n",
       "    </tr>\n",
       "    <tr>\n",
       "      <th>1</th>\n",
       "      <td>BMW</td>\n",
       "      <td>Blue</td>\n",
       "      <td>192714.0</td>\n",
       "      <td>5.0</td>\n",
       "      <td>19943.0</td>\n",
       "    </tr>\n",
       "    <tr>\n",
       "      <th>2</th>\n",
       "      <td>Honda</td>\n",
       "      <td>White</td>\n",
       "      <td>84714.0</td>\n",
       "      <td>4.0</td>\n",
       "      <td>28343.0</td>\n",
       "    </tr>\n",
       "    <tr>\n",
       "      <th>3</th>\n",
       "      <td>Toyota</td>\n",
       "      <td>White</td>\n",
       "      <td>154365.0</td>\n",
       "      <td>4.0</td>\n",
       "      <td>13434.0</td>\n",
       "    </tr>\n",
       "    <tr>\n",
       "      <th>4</th>\n",
       "      <td>Nissan</td>\n",
       "      <td>Blue</td>\n",
       "      <td>181577.0</td>\n",
       "      <td>3.0</td>\n",
       "      <td>14043.0</td>\n",
       "    </tr>\n",
       "  </tbody>\n",
       "</table>\n",
       "</div>"
      ],
      "text/plain": [
       "     Make Colour  Odometer (KM)  Doors    Price\n",
       "0   Honda  White        35431.0    4.0  15323.0\n",
       "1     BMW   Blue       192714.0    5.0  19943.0\n",
       "2   Honda  White        84714.0    4.0  28343.0\n",
       "3  Toyota  White       154365.0    4.0  13434.0\n",
       "4  Nissan   Blue       181577.0    3.0  14043.0"
      ]
     },
     "execution_count": 18,
     "metadata": {},
     "output_type": "execute_result"
    }
   ],
   "source": [
    "car_sales_missing = pd.read_csv(\"https://raw.githubusercontent.com/mrdbourke/zero-to-mastery-ml/master/data/car-sales-extended-missing-data.csv\")\n",
    "car_sales_missing.head()"
   ]
  },
  {
   "cell_type": "code",
   "execution_count": 19,
   "id": "1cf6e4c8-599a-492f-80f8-82a64f899644",
   "metadata": {},
   "outputs": [
    {
     "data": {
      "text/plain": [
       "Make             49\n",
       "Colour           50\n",
       "Odometer (KM)    50\n",
       "Doors            50\n",
       "Price            50\n",
       "dtype: int64"
      ]
     },
     "execution_count": 19,
     "metadata": {},
     "output_type": "execute_result"
    }
   ],
   "source": [
    "# Check missing values\n",
    "car_sales_missing.isna().sum()"
   ]
  },
  {
   "cell_type": "code",
   "execution_count": 20,
   "id": "901a627d-c3ac-4317-b20b-2a95d278ea17",
   "metadata": {},
   "outputs": [
    {
     "data": {
      "text/plain": [
       "Make             47\n",
       "Colour           46\n",
       "Odometer (KM)    48\n",
       "Doors            47\n",
       "Price             0\n",
       "dtype: int64"
      ]
     },
     "execution_count": 20,
     "metadata": {},
     "output_type": "execute_result"
    }
   ],
   "source": [
    "# Drop the rows with no labels\n",
    "car_sales_missing.dropna(subset=[\"Price\"], inplace=True)\n",
    "car_sales_missing.isna().sum()"
   ]
  },
  {
   "cell_type": "code",
   "execution_count": 21,
   "id": "5a605307-3bf4-4901-be1b-1c7dcc054c83",
   "metadata": {},
   "outputs": [],
   "source": [
    "from sklearn.model_selection import train_test_split\n",
    "\n",
    "# Split into X & y\n",
    "X = car_sales_missing.drop(\"Price\", axis=1)\n",
    "y = car_sales_missing[\"Price\"]\n",
    "\n",
    "# Split data into train and test\n",
    "np.random.seed(42)\n",
    "X_train, X_test, y_train, y_test = train_test_split(X,\n",
    "                                                    y,\n",
    "                                                    test_size=0.2)"
   ]
  },
  {
   "cell_type": "code",
   "execution_count": 22,
   "id": "6acceb05-f546-4591-93e5-6e88833ffbda",
   "metadata": {},
   "outputs": [
    {
     "data": {
      "text/plain": [
       "Make             47\n",
       "Colour           46\n",
       "Odometer (KM)    48\n",
       "Doors            47\n",
       "dtype: int64"
      ]
     },
     "execution_count": 22,
     "metadata": {},
     "output_type": "execute_result"
    }
   ],
   "source": [
    "# Check missing values\n",
    "X.isna().sum()"
   ]
  },
  {
   "cell_type": "code",
   "execution_count": 23,
   "id": "0d815502-a13d-4831-9b5c-c5aeb19cbe4d",
   "metadata": {},
   "outputs": [
    {
     "data": {
      "text/plain": [
       "array([['Honda', 'White', 4.0, 71934.0],\n",
       "       ['Toyota', 'Red', 4.0, 162665.0],\n",
       "       ['Honda', 'White', 4.0, 42844.0],\n",
       "       ...,\n",
       "       ['Toyota', 'White', 4.0, 196225.0],\n",
       "       ['Honda', 'Blue', 4.0, 133117.0],\n",
       "       ['Honda', 'missing', 4.0, 150582.0]], dtype=object)"
      ]
     },
     "execution_count": 23,
     "metadata": {},
     "output_type": "execute_result"
    }
   ],
   "source": [
    "# Fill missing values with Scikit-Learn\n",
    "from sklearn.impute import SimpleImputer\n",
    "from sklearn.compose import ColumnTransformer\n",
    "\n",
    "# Fill categorical values with 'missing' & numerical values with mean\n",
    "cat_imputer = SimpleImputer(strategy=\"constant\", fill_value=\"missing\")\n",
    "door_imputer = SimpleImputer(strategy=\"constant\", fill_value=4)\n",
    "num_imputer = SimpleImputer(strategy=\"mean\")\n",
    "\n",
    "# Define columns\n",
    "cat_features = [\"Make\", \"Colour\"]\n",
    "door_feature = [\"Doors\"]\n",
    "num_features = [\"Odometer (KM)\"]\n",
    "\n",
    "# Create an imputer (something that fills missing data)\n",
    "imputer = ColumnTransformer([\n",
    "    (\"cat_imputer\", cat_imputer, cat_features),\n",
    "    (\"door_imputer\", door_imputer, door_feature),\n",
    "    (\"num_imputer\", num_imputer, num_features)\n",
    "])\n",
    "\n",
    "# Fill train and test values separately\n",
    "filled_X_train = imputer.fit_transform(X_train) # fit_transform imputes the missing values from the training set and fills them simultaneously\n",
    "filled_X_test = imputer.transform(X_test) # tranform takes the imputing missing values from the training set and fills the test set with them\n",
    "\n",
    "# Check filled X_train\n",
    "filled_X_train"
   ]
  },
  {
   "cell_type": "code",
   "execution_count": 24,
   "id": "9095ec2e-fcbe-48d6-8824-438434bf454d",
   "metadata": {},
   "outputs": [
    {
     "data": {
      "text/plain": [
       "Make             0\n",
       "Colour           0\n",
       "Doors            0\n",
       "Odometer (KM)    0\n",
       "dtype: int64"
      ]
     },
     "execution_count": 24,
     "metadata": {},
     "output_type": "execute_result"
    }
   ],
   "source": [
    "# Get our transformed data array's back into DataFrame's\n",
    "car_sales_filled_train = pd.DataFrame(filled_X_train, \n",
    "                                      columns=[\"Make\", \"Colour\", \"Doors\", \"Odometer (KM)\"])\n",
    "\n",
    "car_sales_filled_test = pd.DataFrame(filled_X_test, \n",
    "                                     columns=[\"Make\", \"Colour\", \"Doors\", \"Odometer (KM)\"])\n",
    "\n",
    "# Check missing data in training set\n",
    "car_sales_filled_train.isna().sum()"
   ]
  },
  {
   "cell_type": "code",
   "execution_count": 25,
   "id": "df70c721-f45a-4557-a713-347529366310",
   "metadata": {},
   "outputs": [
    {
     "data": {
      "text/plain": [
       "Make             0\n",
       "Colour           0\n",
       "Doors            0\n",
       "Odometer (KM)    0\n",
       "dtype: int64"
      ]
     },
     "execution_count": 25,
     "metadata": {},
     "output_type": "execute_result"
    }
   ],
   "source": [
    "# Check missing data in test set\n",
    "car_sales_filled_test.isna().sum()"
   ]
  },
  {
   "cell_type": "code",
   "execution_count": 26,
   "id": "16e75762-3f72-4f89-87af-bfa440793e28",
   "metadata": {},
   "outputs": [
    {
     "data": {
      "text/plain": [
       "Make             47\n",
       "Colour           46\n",
       "Odometer (KM)    48\n",
       "Doors            47\n",
       "Price             0\n",
       "dtype: int64"
      ]
     },
     "execution_count": 26,
     "metadata": {},
     "output_type": "execute_result"
    }
   ],
   "source": [
    "# Check to see the original... still missing values\n",
    "car_sales_missing.isna().sum()"
   ]
  },
  {
   "cell_type": "code",
   "execution_count": 27,
   "id": "5a8487a7-ce88-4f5d-83ab-a6c68f927226",
   "metadata": {},
   "outputs": [
    {
     "data": {
      "text/plain": [
       "array([[0.00000e+00, 1.00000e+00, 0.00000e+00, ..., 1.00000e+00,\n",
       "        0.00000e+00, 7.19340e+04],\n",
       "       [0.00000e+00, 0.00000e+00, 0.00000e+00, ..., 1.00000e+00,\n",
       "        0.00000e+00, 1.62665e+05],\n",
       "       [0.00000e+00, 1.00000e+00, 0.00000e+00, ..., 1.00000e+00,\n",
       "        0.00000e+00, 4.28440e+04],\n",
       "       ...,\n",
       "       [0.00000e+00, 0.00000e+00, 0.00000e+00, ..., 1.00000e+00,\n",
       "        0.00000e+00, 1.96225e+05],\n",
       "       [0.00000e+00, 1.00000e+00, 0.00000e+00, ..., 1.00000e+00,\n",
       "        0.00000e+00, 1.33117e+05],\n",
       "       [0.00000e+00, 1.00000e+00, 0.00000e+00, ..., 1.00000e+00,\n",
       "        0.00000e+00, 1.50582e+05]])"
      ]
     },
     "execution_count": 27,
     "metadata": {},
     "output_type": "execute_result"
    }
   ],
   "source": [
    "# Import OneHotEncoder class from sklearn\n",
    "from sklearn.preprocessing import OneHotEncoder\n",
    "\n",
    "# Now let's one hot encode the features with the same code as before \n",
    "categorical_features = [\"Make\", \"Colour\", \"Doors\"]\n",
    "one_hot = OneHotEncoder()\n",
    "transformer = ColumnTransformer([(\"one_hot\", \n",
    "                                 one_hot, \n",
    "                                 categorical_features)],\n",
    "                                 remainder=\"passthrough\")\n",
    "\n",
    "# Fill train and test values separately\n",
    "transformed_X_train = transformer.fit_transform(car_sales_filled_train) # fit and transform the training data\n",
    "transformed_X_test = transformer.transform(car_sales_filled_test) # transform the test data\n",
    "\n",
    "# Check transformed and filled X_train\n",
    "transformed_X_train.toarray()"
   ]
  },
  {
   "cell_type": "code",
   "execution_count": 28,
   "id": "4b1981c7-e636-4101-9822-26724d48b212",
   "metadata": {},
   "outputs": [
    {
     "data": {
      "text/plain": [
       "0.21229043336119102"
      ]
     },
     "execution_count": 28,
     "metadata": {},
     "output_type": "execute_result"
    }
   ],
   "source": [
    "# Now we've transformed X, let's see if we can fit a model\n",
    "np.random.seed(42)\n",
    "from sklearn.ensemble import RandomForestRegressor\n",
    "\n",
    "# Setup model\n",
    "model = RandomForestRegressor()\n",
    "\n",
    "# Make sure to use transformed (filled and one-hot encoded X data)\n",
    "model.fit(transformed_X_train, y_train)\n",
    "model.score(transformed_X_test, y_test)"
   ]
  },
  {
   "cell_type": "markdown",
   "id": "fa656475-3f9a-419c-8932-aec2d6f8fcdd",
   "metadata": {},
   "source": [
    "## 2. escolher o modelo\n",
    "\n",
    "Mapa de modelos do scikit-learn: https://scikit-learn.org/stable/tutorial/machine_learning_map/index.html"
   ]
  },
  {
   "cell_type": "markdown",
   "id": "981e5d8a-f332-4367-afac-9c04898df708",
   "metadata": {},
   "source": [
    "### 2.1 para um problema de regressão"
   ]
  },
  {
   "cell_type": "code",
   "execution_count": 29,
   "id": "b4000ba3-6c8c-404c-ab15-142c2e7bf65a",
   "metadata": {},
   "outputs": [],
   "source": [
    "# Standard imports\n",
    "import numpy as np\n",
    "import pandas as pd\n",
    "import matplotlib.pyplot as plt\n",
    "%matplotlib inline"
   ]
  },
  {
   "cell_type": "code",
   "execution_count": 30,
   "id": "4219d405-55ea-4cfe-8d80-f12b953d5650",
   "metadata": {},
   "outputs": [],
   "source": [
    "# dataset de imóveis da Califórnia\n",
    "from sklearn.datasets import fetch_california_housing\n",
    "housing = fetch_california_housing()\n",
    "housing_df = pd.DataFrame(housing['data'], columns=housing['feature_names'])\n",
    "housing_df['target'] = housing[\"target\"]"
   ]
  },
  {
   "cell_type": "code",
   "execution_count": 31,
   "id": "1260d3e9-da6b-434c-9dea-e3929b7a6e5e",
   "metadata": {},
   "outputs": [],
   "source": [
    "from sklearn.model_selection import train_test_split\n",
    "\n",
    "np.random.seed(42)\n",
    "\n",
    "X = housing_df.drop(\"target\", axis=1)\n",
    "y = housing_df['target']\n",
    "\n",
    "X_train, X_test, y_train, y_test = train_test_split(X, y, test_size=0.2)"
   ]
  },
  {
   "cell_type": "code",
   "execution_count": 32,
   "id": "14c0ec69-1ca6-4396-9e05-f2959394bbe3",
   "metadata": {},
   "outputs": [
    {
     "data": {
      "text/plain": [
       "0.5758549611440126"
      ]
     },
     "execution_count": 32,
     "metadata": {},
     "output_type": "execute_result"
    }
   ],
   "source": [
    "from sklearn.linear_model import Ridge\n",
    "from sklearn.metrics import classification_report, confusion_matrix, accuracy_score\n",
    "\n",
    "clf = Ridge()\n",
    "clf.fit(X_train, y_train)\n",
    "clf.score(X_test, y_test)"
   ]
  },
  {
   "cell_type": "code",
   "execution_count": 33,
   "id": "bb64f407-ffdc-4898-b6de-971965b6c4d4",
   "metadata": {},
   "outputs": [
    {
     "name": "stdout",
     "output_type": "stream",
     "text": [
      "0.8065734772187598\n",
      "0.8086595175501714\n"
     ]
    }
   ],
   "source": [
    "# utilizando modelos de ensemble\n",
    "from sklearn.ensemble import RandomForestRegressor\n",
    "\n",
    "rf = RandomForestRegressor(oob_score=True, max_depth=100)\n",
    "rf.fit(X_train, y_train)\n",
    "print(rf.score(X_test, y_test))\n",
    "print(rf.oob_score_)"
   ]
  },
  {
   "cell_type": "markdown",
   "id": "71dfce9d-792b-4535-b7e8-f78c46e79227",
   "metadata": {},
   "source": [
    "### 2.2 para um problema de classificação"
   ]
  },
  {
   "cell_type": "code",
   "execution_count": 34,
   "id": "3d7f460e-0055-4aaf-b87b-20e04f20efa1",
   "metadata": {},
   "outputs": [],
   "source": [
    "heart_disease = pd.read_csv('scikit-learn-data/heart-disease.csv')"
   ]
  },
  {
   "cell_type": "code",
   "execution_count": 35,
   "id": "50881ff0-61ce-430d-b0dc-2714d62b9d96",
   "metadata": {},
   "outputs": [],
   "source": [
    "np.random.seed(42)\n",
    "\n",
    "X = heart_disease.drop('target', axis=1)\n",
    "y = heart_disease['target']\n",
    "\n",
    "X_train, X_test, y_train, y_test = train_test_split(X, y, test_size=0.2)"
   ]
  },
  {
   "cell_type": "code",
   "execution_count": 36,
   "id": "c3375e79-116b-4091-9737-7a45a3c75a56",
   "metadata": {},
   "outputs": [
    {
     "name": "stderr",
     "output_type": "stream",
     "text": [
      "C:\\Users\\willi\\anaconda3\\envs\\ztm\\lib\\site-packages\\sklearn\\svm\\_base.py:1206: ConvergenceWarning: Liblinear failed to converge, increase the number of iterations.\n",
      "  warnings.warn(\n"
     ]
    },
    {
     "data": {
      "text/plain": [
       "0.8688524590163934"
      ]
     },
     "execution_count": 36,
     "metadata": {},
     "output_type": "execute_result"
    }
   ],
   "source": [
    "## com LinearSVC\n",
    "from sklearn.svm import LinearSVC\n",
    "\n",
    "svc = LinearSVC()\n",
    "svc.fit(X_train, y_train)\n",
    "svc.score(X_test, y_test)"
   ]
  },
  {
   "cell_type": "code",
   "execution_count": 37,
   "id": "38d730d2-858a-438b-bf6a-b3bb093a7748",
   "metadata": {
    "tags": []
   },
   "outputs": [
    {
     "data": {
      "text/plain": [
       "0.8688524590163934"
      ]
     },
     "execution_count": 37,
     "metadata": {},
     "output_type": "execute_result"
    }
   ],
   "source": [
    "from sklearn.ensemble import RandomForestClassifier\n",
    "\n",
    "rfc = RandomForestClassifier(ccp_alpha=1E-1)\n",
    "rfc.fit(X_train, y_train)\n",
    "rfc.score(X_test, y_test)"
   ]
  },
  {
   "cell_type": "markdown",
   "id": "919b8452-8321-4ab3-8449-fea8216d543f",
   "metadata": {},
   "source": [
    "Dica:\n",
    "1. Se os dados são estruturados, usar modelo de ensemble\n",
    "2. Se os dados não são estruturados, usar deep learning ou transfer learning"
   ]
  },
  {
   "cell_type": "markdown",
   "id": "c5fc2e28-8e71-408e-ad78-edbabe5863cc",
   "metadata": {},
   "source": [
    "## 3. treinar o modelo e fazer previsões nos dados\n",
    "\n",
    "### 3.1 treinar o modelo"
   ]
  },
  {
   "cell_type": "code",
   "execution_count": 38,
   "id": "bc100557-bfd5-4301-8e5a-053a84f7c2a2",
   "metadata": {},
   "outputs": [
    {
     "data": {
      "text/plain": [
       "0.8688524590163934"
      ]
     },
     "execution_count": 38,
     "metadata": {},
     "output_type": "execute_result"
    }
   ],
   "source": [
    "np.random.seed(42)\n",
    "\n",
    "X = heart_disease.drop('target', axis=1)\n",
    "y = heart_disease['target']\n",
    "\n",
    "X_train, X_test, y_train, y_test = train_test_split(X, y, test_size=0.2)\n",
    "\n",
    "from sklearn.ensemble import RandomForestClassifier\n",
    "\n",
    "rfc = RandomForestClassifier(ccp_alpha=1E-1)\n",
    "rfc.fit(X_train, y_train)\n",
    "rfc.score(X_test, y_test)"
   ]
  },
  {
   "cell_type": "markdown",
   "id": "18d8caa7-f6e9-4a18-a962-b317660d17be",
   "metadata": {},
   "source": [
    "### 3.2 fazer previsões usando um modelo treinado e ver métricas de acurácia"
   ]
  },
  {
   "cell_type": "code",
   "execution_count": 39,
   "id": "59b7685b-6a0e-48fd-b015-a110a57a661c",
   "metadata": {},
   "outputs": [
    {
     "name": "stdout",
     "output_type": "stream",
     "text": [
      "0.8688524590163934\n",
      "[[24  3]\n",
      " [ 5 29]]\n",
      "              precision    recall  f1-score   support\n",
      "\n",
      "           0       0.83      0.89      0.86        27\n",
      "           1       0.91      0.85      0.88        34\n",
      "\n",
      "    accuracy                           0.87        61\n",
      "   macro avg       0.87      0.87      0.87        61\n",
      "weighted avg       0.87      0.87      0.87        61\n",
      "\n"
     ]
    }
   ],
   "source": [
    "from sklearn.metrics import accuracy_score, confusion_matrix, classification_report\n",
    "\n",
    "y_preds = rfc.predict(X_test)\n",
    "\n",
    "print(accuracy_score(y_preds, y_test)) \n",
    "print(confusion_matrix(y_preds, y_test))\n",
    "print(classification_report(y_preds, y_test))"
   ]
  },
  {
   "cell_type": "code",
   "execution_count": 40,
   "id": "327eb31a-2374-46d2-bd5e-683a549818b0",
   "metadata": {},
   "outputs": [
    {
     "data": {
      "text/plain": [
       "array([[0.51531024, 0.48468976],\n",
       "       [0.41835722, 0.58164278],\n",
       "       [0.4688158 , 0.5311842 ],\n",
       "       [0.57923256, 0.42076744],\n",
       "       [0.42750656, 0.57249344]])"
      ]
     },
     "execution_count": 40,
     "metadata": {},
     "output_type": "execute_result"
    }
   ],
   "source": [
    "y_preds_prob = rfc.predict_proba(X_test) # retorna probabilidades da classificação ordenadas pela label das classes\n",
    "\n",
    "y_preds_prob[:5]"
   ]
  },
  {
   "cell_type": "markdown",
   "id": "6c4a80fb-f31a-4a71-a96c-e5b365001797",
   "metadata": {},
   "source": [
    "## 4. avaliar o modelo\n",
    "Existem 3 formas de avaliar um modelo do sklearn:\n",
    "1. Método `score()` do modelo\n",
    "2. Parâmetro `scoring`\n",
    "3. Métricas específicas para um problema\n"
   ]
  },
  {
   "cell_type": "markdown",
   "id": "452acf3e-d8c6-4167-ad93-667816e5c6b5",
   "metadata": {},
   "source": [
    "### 4.1 usando o método `score`"
   ]
  },
  {
   "cell_type": "code",
   "execution_count": 41,
   "id": "c49dc097-0584-47bb-8fae-f93ebdf94f93",
   "metadata": {},
   "outputs": [
    {
     "name": "stdout",
     "output_type": "stream",
     "text": [
      "1.0\n",
      "0.8032786885245902\n"
     ]
    }
   ],
   "source": [
    "from sklearn.ensemble import RandomForestClassifier\n",
    "from sklearn.model_selection import train_test_split\n",
    "\n",
    "\n",
    "X = heart_disease.drop('target', axis=1)\n",
    "y = heart_disease['target']\n",
    "\n",
    "X_train, X_test, y_train, y_test = train_test_split(X, y, test_size=0.2)\n",
    "\n",
    "from sklearn.ensemble import RandomForestClassifier\n",
    "\n",
    "rfc = RandomForestClassifier()\n",
    "rfc.fit(X_train, y_train)\n",
    "print(rfc.score(X_train, y_train))\n",
    "print(rfc.score(X_test, y_test))\n",
    "\n",
    "# regressão -> coeficiente de determinação (R^2)\n",
    "# classificação -> mean accuracy"
   ]
  },
  {
   "cell_type": "markdown",
   "id": "f6dbc802-945a-40d9-b797-59124babd2e5",
   "metadata": {},
   "source": [
    "### 4.2 avaliando um modelo usando o parâmetro `scoring`\n",
    "#### 4.2.1 cross validation"
   ]
  },
  {
   "cell_type": "code",
   "execution_count": 42,
   "id": "22dc321a-c721-453e-90b8-b7d962757dd0",
   "metadata": {},
   "outputs": [
    {
     "name": "stdout",
     "output_type": "stream",
     "text": [
      "[0.83606557 0.90163934 0.78688525 0.83333333 0.75      ]\n",
      "0.821584699453552\n",
      "\n",
      "\n",
      "0.8314207650273223\n",
      "\n",
      "\n",
      "0.8242177946447397\n",
      "\n",
      "\n",
      "0.8484848484848484\n",
      "\n",
      "\n",
      "0.8483963408997484\n",
      "\n",
      "\n",
      "0.9008938592271925\n",
      "\n",
      "\n",
      "-0.3952271291497146\n"
     ]
    }
   ],
   "source": [
    "from sklearn.model_selection import cross_val_score\n",
    "\n",
    "X = heart_disease.drop('target', axis=1)\n",
    "y = heart_disease['target']\n",
    "\n",
    "X_train, X_test, y_train, y_test = train_test_split(X, y, test_size=0.2)\n",
    "\n",
    "from sklearn.ensemble import RandomForestClassifier\n",
    "\n",
    "rfc = RandomForestClassifier()\n",
    "rfc.fit(X_train, y_train)\n",
    "\n",
    "cv = cross_val_score(rfc, X, y, cv=5, scoring=None)  # com none, usa a métrica padrão do modelo - nesse caso, acurácia média\n",
    "cv_accuracy = cross_val_score(rfc, X, y, cv=5, scoring=\"accuracy\")\n",
    "cv_precision = cross_val_score(rfc, X, y, cv=5, scoring=\"precision\")\n",
    "cv_recall = cross_val_score(rfc, X, y, cv=5, scoring=\"recall\")\n",
    "cv_f1 = cross_val_score(rfc, X, y, cv=5, scoring=\"f1\")\n",
    "cv_roc_auc = cross_val_score(rfc, X, y, cv=5, scoring=\"roc_auc\")\n",
    "cv_neg_log_loss = cross_val_score(rfc, X, y, cv=5, scoring=\"neg_log_loss\")\n",
    "\n",
    "\n",
    "print(cv)  # cross_val_score retorna uma array\n",
    "print(np.mean(cv))\n",
    "print('\\n')\n",
    "print(np.mean(cv_accuracy))\n",
    "print('\\n')\n",
    "print(np.mean(cv_precision))\n",
    "print('\\n')\n",
    "print(np.mean(cv_recall))\n",
    "print('\\n')\n",
    "print(np.mean(cv_f1))\n",
    "print('\\n')\n",
    "print(np.mean(cv_roc_auc))\n",
    "print('\\n')\n",
    "print(np.mean(cv_neg_log_loss))"
   ]
  },
  {
   "cell_type": "markdown",
   "id": "f3d4abe0-2d26-495b-8f32-f6d54759825c",
   "metadata": {},
   "source": [
    "### 4.3 usando funções específicas para cada problema\n",
    "#### 4.3.1 area under receiver operating charachteristic curve (AUC/ROC)\n",
    "Comparação da taxa de positivos verdadeiros vs a taxa de falsos positivos\n",
    "\n",
    "- TP: modelo prevê 1 quando a verdade é 1\n",
    "- FP: modelo prevê 1 quando a verdade é 0\n",
    "- TN: modelo prevê 0 quando a verdade é 0\n",
    "- FN: modelo prevê 0 quando a verdade é 1"
   ]
  },
  {
   "cell_type": "code",
   "execution_count": 43,
   "id": "e51e569d-f552-45d1-aa57-d5c8df4e713e",
   "metadata": {},
   "outputs": [],
   "source": [
    "from sklearn.metrics import roc_curve\n",
    "\n",
    "y_probs = rfc.predict_proba(X_test)\n",
    "\n",
    "y_probs_positive = y_probs[:, 1]"
   ]
  },
  {
   "cell_type": "code",
   "execution_count": 44,
   "id": "e9a77063-f96e-40e8-911d-116ea71950e5",
   "metadata": {},
   "outputs": [
    {
     "name": "stdout",
     "output_type": "stream",
     "text": [
      "0.31211857018308625\n",
      "0.673873873873874\n",
      "0.5905405405405407\n"
     ]
    }
   ],
   "source": [
    "# calcular fpr, tpr e thresholds\n",
    "fpr, tpr, thresholds = roc_curve(y_test, y_probs_positive)\n",
    "print(np.mean(fpr))\n",
    "print(np.mean(tpr))\n",
    "print(np.mean(thresholds))"
   ]
  },
  {
   "cell_type": "code",
   "execution_count": 45,
   "id": "99ff719b-29ad-4e63-a5b7-700b3d582dd3",
   "metadata": {},
   "outputs": [
    {
     "data": {
      "image/png": "[encoded data removed]",
      "text/plain": [
       "<Figure size 432x288 with 1 Axes>"
      ]
     },
     "metadata": {
      "needs_background": "light"
     },
     "output_type": "display_data"
    }
   ],
   "source": [
    "# função para plotar curva ROC\n",
    "import matplotlib.pyplot as plt\n",
    "\n",
    "def plot_roc_curve(fpr, tpr):\n",
    "    \"\"\"\n",
    "    Plota uma curva ROC dado a taxa de falso negativos (fpr)\n",
    "    e a taxa de verdadeiros positivos (tpr)\n",
    "    \"\"\"\n",
    "    \n",
    "    plt.plot(fpr,tpr, color=\"orange\", label=\"ROC\")\n",
    "    plt.plot([0,1], [0,1], color=\"darkblue\", linestyle=\"--\", label=\"Guessing\")\n",
    "    \n",
    "    plt.xlabel(\"False positive rate\")\n",
    "    plt.ylabel(\"True positive rate\")\n",
    "    plt.title(\"ROC Curve\")\n",
    "    plt.legend()\n",
    "    plt.show()\n",
    "\n",
    "plot_roc_curve(fpr, tpr)"
   ]
  },
  {
   "cell_type": "code",
   "execution_count": 46,
   "id": "be0a9a01-a344-4030-b3da-724c4d62ac09",
   "metadata": {},
   "outputs": [
    {
     "data": {
      "text/plain": [
       "0.8548387096774194"
      ]
     },
     "execution_count": 46,
     "metadata": {},
     "output_type": "execute_result"
    }
   ],
   "source": [
    "from sklearn.metrics import roc_auc_score\n",
    "\n",
    "roc_auc_score(y_test, y_probs_positive)"
   ]
  },
  {
   "cell_type": "code",
   "execution_count": 47,
   "id": "a5b269a9-2f2d-4224-a54d-ea4a46a9141f",
   "metadata": {},
   "outputs": [
    {
     "data": {
      "image/png": "[encoded data removed]",
      "text/plain": [
       "<Figure size 432x288 with 1 Axes>"
      ]
     },
     "metadata": {
      "needs_background": "light"
     },
     "output_type": "display_data"
    },
    {
     "data": {
      "text/plain": [
       "1.0"
      ]
     },
     "execution_count": 47,
     "metadata": {},
     "output_type": "execute_result"
    }
   ],
   "source": [
    "# Curva ROC perfeita e AUC máximo\n",
    "fpr, tpr, thresholds = roc_curve(y_test, y_test)\n",
    "plot_roc_curve(fpr, tpr)\n",
    "\n",
    "roc_auc_score(y_test, y_test)"
   ]
  },
  {
   "cell_type": "markdown",
   "id": "232bee20-32d0-46c2-b633-7a0ac004bf85",
   "metadata": {
    "tags": []
   },
   "source": [
    "#### 4.3.2 matriz de confusão\n",
    "É uma forma de comparar as previsões com os valores reais dos rótulos. Nos dá uma ideia de onde o modelo está confuso (errando)"
   ]
  },
  {
   "cell_type": "code",
   "execution_count": 48,
   "id": "bfecbda7-3403-4af8-9749-2f5e5090ee65",
   "metadata": {},
   "outputs": [
    {
     "data": {
      "text/plain": [
       "array([[20, 11],\n",
       "       [ 4, 26]], dtype=int64)"
      ]
     },
     "execution_count": 48,
     "metadata": {},
     "output_type": "execute_result"
    }
   ],
   "source": [
    "from sklearn.metrics import confusion_matrix\n",
    "\n",
    "y_preds = rfc.predict(X_test)\n",
    "\n",
    "confusion_matrix(y_test, y_preds)"
   ]
  },
  {
   "cell_type": "code",
   "execution_count": 49,
   "id": "8bc47617-1c15-4648-a460-ca541079aa98",
   "metadata": {},
   "outputs": [
    {
     "data": {
      "text/html": [
       "<div>\n",
       "<style scoped>\n",
       "    .dataframe tbody tr th:only-of-type {\n",
       "        vertical-align: middle;\n",
       "    }\n",
       "\n",
       "    .dataframe tbody tr th {\n",
       "        vertical-align: top;\n",
       "    }\n",
       "\n",
       "    .dataframe thead th {\n",
       "        text-align: right;\n",
       "    }\n",
       "</style>\n",
       "<table border=\"1\" class=\"dataframe\">\n",
       "  <thead>\n",
       "    <tr style=\"text-align: right;\">\n",
       "      <th>Predicted labels</th>\n",
       "      <th>0</th>\n",
       "      <th>1</th>\n",
       "    </tr>\n",
       "    <tr>\n",
       "      <th>Actual labels</th>\n",
       "      <th></th>\n",
       "      <th></th>\n",
       "    </tr>\n",
       "  </thead>\n",
       "  <tbody>\n",
       "    <tr>\n",
       "      <th>0</th>\n",
       "      <td>20</td>\n",
       "      <td>11</td>\n",
       "    </tr>\n",
       "    <tr>\n",
       "      <th>1</th>\n",
       "      <td>4</td>\n",
       "      <td>26</td>\n",
       "    </tr>\n",
       "  </tbody>\n",
       "</table>\n",
       "</div>"
      ],
      "text/plain": [
       "Predicted labels   0   1\n",
       "Actual labels           \n",
       "0                 20  11\n",
       "1                  4  26"
      ]
     },
     "execution_count": 49,
     "metadata": {},
     "output_type": "execute_result"
    }
   ],
   "source": [
    "# Visualizar matriz de confusão com pandas\n",
    "\n",
    "pd.crosstab(y_test, \n",
    "            y_preds, \n",
    "            rownames=[\"Actual labels\"],\n",
    "            colnames=[\"Predicted labels\"])"
   ]
  },
  {
   "cell_type": "code",
   "execution_count": 50,
   "id": "e64a143b-5c34-4261-9457-7d10bb9c5c6d",
   "metadata": {},
   "outputs": [
    {
     "data": {
      "text/plain": [
       "<AxesSubplot:>"
      ]
     },
     "execution_count": 50,
     "metadata": {},
     "output_type": "execute_result"
    },
    {
     "data": {
      "image/png": "[encoded data removed]",
      "text/plain": [
       "<Figure size 432x288 with 2 Axes>"
      ]
     },
     "metadata": {},
     "output_type": "display_data"
    }
   ],
   "source": [
    "# Visualizar matriz de confusão heatmap do Seaborn\n",
    "import seaborn as sns\n",
    "\n",
    "sns.set(font_scale=1.3)\n",
    "conf_mat = confusion_matrix(y_test, y_preds)\n",
    "sns.heatmap(conf_mat)"
   ]
  },
  {
   "cell_type": "code",
   "execution_count": 51,
   "id": "1822e315-a5ae-4fc1-bc66-0626481fe928",
   "metadata": {},
   "outputs": [
    {
     "data": {
      "text/plain": [
       "<sklearn.metrics._plot.confusion_matrix.ConfusionMatrixDisplay at 0x1c887ce3430>"
      ]
     },
     "execution_count": 51,
     "metadata": {},
     "output_type": "execute_result"
    },
    {
     "data": {
      "image/png": "[encoded data removed]",
      "text/plain": [
       "<Figure size 432x288 with 2 Axes>"
      ]
     },
     "metadata": {},
     "output_type": "display_data"
    }
   ],
   "source": [
    "from sklearn.metrics import ConfusionMatrixDisplay\n",
    "\n",
    "ConfusionMatrixDisplay.from_estimator(estimator=rfc, X=X, y=y)"
   ]
  },
  {
   "cell_type": "code",
   "execution_count": 52,
   "id": "56a25536-c52d-4d9a-97fc-98ff3b9e93fa",
   "metadata": {},
   "outputs": [
    {
     "data": {
      "text/plain": [
       "<sklearn.metrics._plot.confusion_matrix.ConfusionMatrixDisplay at 0x1c895dd9820>"
      ]
     },
     "execution_count": 52,
     "metadata": {},
     "output_type": "execute_result"
    },
    {
     "data": {
      "image/png": "[encoded data removed]",
      "text/plain": [
       "<Figure size 432x288 with 2 Axes>"
      ]
     },
     "metadata": {},
     "output_type": "display_data"
    }
   ],
   "source": [
    "ConfusionMatrixDisplay.from_predictions(y_true=y_test, y_pred=y_preds)"
   ]
  },
  {
   "cell_type": "markdown",
   "id": "f0c88ba8-395d-4ebf-9db9-b003bc5c41ab",
   "metadata": {},
   "source": [
    "#### 4.3.3 classification report"
   ]
  },
  {
   "cell_type": "code",
   "execution_count": 53,
   "id": "1a918c40-54a6-4562-b199-9228e9747941",
   "metadata": {},
   "outputs": [
    {
     "name": "stdout",
     "output_type": "stream",
     "text": [
      "              precision    recall  f1-score   support\n",
      "\n",
      "           0       0.83      0.65      0.73        31\n",
      "           1       0.70      0.87      0.78        30\n",
      "\n",
      "    accuracy                           0.75        61\n",
      "   macro avg       0.77      0.76      0.75        61\n",
      "weighted avg       0.77      0.75      0.75        61\n",
      "\n"
     ]
    }
   ],
   "source": [
    "from sklearn.metrics import classification_report\n",
    "\n",
    "print(classification_report(y_test, y_preds))"
   ]
  },
  {
   "cell_type": "markdown",
   "id": "cd00f33e-7965-4ba9-9d82-ecc2aadc783d",
   "metadata": {},
   "source": [
    "#### 4.3.4 qual métrica utilizar para regressão?\n",
    "- **Coeficiente de determinação $R^2$**: similar a acurácia, te mostra rapidamente quão boa é a performance do modelo. Quanto mais perto de 1.0, melhor o modelo. No entanto, essa métrica não mostra em quais casos o modelo está errando e por quanto ele está errandp.\n",
    "\n",
    "- **Mean absolute error (MAE)** é uma indicação de quanto o modelo erra na média.\n",
    "- **Mean squared error (MSE)** é parecido com o MAE, mas amplifica diferenças maiores.\n",
    "\n",
    "- prestar mais atenção no MAE quando por exemplo, errar por 10.000 é duas vezes pior do que errar por 5.000\n",
    "- prestar mais atenção no MSE quando errar por 10.000 é mais que duas vezes pior que errar por 5.000"
   ]
  },
  {
   "cell_type": "markdown",
   "id": "c25b6b20-1f0a-4a47-8280-23daa56f9498",
   "metadata": {},
   "source": [
    "## 5. ajustando um modelo\n",
    "### Primeiras perguntas\n",
    "Dados:\n",
    "- podemos coletar mais dados?\n",
    "- podemos melhorar os dados?\n",
    "\n",
    "Modelo:\n",
    "- podemos usar um modelo melhor?\n",
    "- podemos melhorar o modelo atual?\n",
    "\n",
    "Parâmetros: o modelo encontra esses padrões nos dados\n",
    "\n",
    "Hiperparâmetros: configurações no modelo que podem ser ajustadas para (potencialmente) melhorar a capacidade do modelo de encontrar padrões"
   ]
  },
  {
   "cell_type": "code",
   "execution_count": 54,
   "id": "806b8193-cfc8-4c22-8eff-d26b966b8f24",
   "metadata": {},
   "outputs": [],
   "source": [
    "from sklearn.ensemble import RandomForestClassifier\n",
    "clf = RandomForestClassifier()\n",
    "clf.get_params();"
   ]
  },
  {
   "cell_type": "markdown",
   "id": "c378ea0d-4e8e-4cd3-acf3-6c1ad1a90320",
   "metadata": {},
   "source": [
    "Maneiras de ajustar hiperparâmetros:\n",
    "1. manuealmente\n",
    "2. aleatoriamente, usando `RandomSearchCV`\n",
    "3. exaustivamente, usando `GridSeachCV`"
   ]
  },
  {
   "cell_type": "markdown",
   "id": "7574a4bd-b955-4795-bbbb-79a982577e38",
   "metadata": {},
   "source": [
    "### 5.1 ajustando hiperparâmetros manualmente\n",
    "\n",
    "Precisamos de 3 conjuntos: treino, validação e teste."
   ]
  },
  {
   "cell_type": "code",
   "execution_count": 55,
   "id": "9439d3bf-ddaf-496d-97ae-45a9441a9a5d",
   "metadata": {},
   "outputs": [],
   "source": [
    "from sklearn.metrics import accuracy_score, precision_score, recall_score, f1_score\n",
    "def evaluate_preds(y_true, y_preds):\n",
    "    \"\"\"\n",
    "    Performs evaluation comparison on y_true labels vs y_pred labels\n",
    "    on a classification model.\n",
    "    \"\"\"\n",
    "    accuracy = accuracy_score(y_true, y_preds)\n",
    "    precision = precision_score(y_true, y_preds)\n",
    "    recall = recall_score(y_true, y_preds)\n",
    "    f1 = f1_score(y_true, y_preds)\n",
    "    metric_dict = {\"accuracy\": round(accuracy, 2),\n",
    "                   \"precision\": round(precision, 2),\n",
    "                   \"recall\": round(recall, 2),\n",
    "                   \"f1\": round(f1, 2)}\n",
    "                   \n",
    "    print(f\"Acc: {accuracy*100:.2f}%\")\n",
    "    print(f\"Precision: {precision:.2f}\")\n",
    "    print(f\"Recall: {recall:.2f}\")\n",
    "    print(f\"F1 score: {f1:.2f}\")\n",
    "                   \n",
    "    return metric_dict"
   ]
  },
  {
   "cell_type": "code",
   "execution_count": 56,
   "id": "f861d8de-1327-4284-9eed-759272b8260a",
   "metadata": {},
   "outputs": [
    {
     "name": "stdout",
     "output_type": "stream",
     "text": [
      "Acc: 84.44%\n",
      "Precision: 0.93\n",
      "Recall: 0.84\n",
      "F1 score: 0.89\n"
     ]
    }
   ],
   "source": [
    "# shuffle data\n",
    "heart_disease_shuffled = heart_disease.sample(frac=1)\n",
    "\n",
    "# split data\n",
    "X = heart_disease_shuffled.drop(\"target\", axis=1)\n",
    "y = heart_disease_shuffled[\"target\"]\n",
    "\n",
    "# split into train, val, test\n",
    "train_split = round(0.7 * len(heart_disease_shuffled))\n",
    "valid_split = round(train_split + 0.15 * len(heart_disease_shuffled))\n",
    "X_train, y_train = X[:train_split], y[:train_split]\n",
    "X_valid, y_valid = X[train_split:valid_split], y[train_split:valid_split]\n",
    "X_test, y_test = X[valid_split:], y[valid_split:]\n",
    "\n",
    "len(X_train), len(X_valid), len(X_test)\n",
    "\n",
    "clf.fit(X_train, y_train)\n",
    "\n",
    "y_preds = clf.predict(X_valid)\n",
    "\n",
    "baseline_metrics = evaluate_preds(y_valid, y_preds)"
   ]
  },
  {
   "cell_type": "code",
   "execution_count": 57,
   "id": "e57f2f06-8371-4310-99f3-12ad3dc4574b",
   "metadata": {},
   "outputs": [
    {
     "name": "stdout",
     "output_type": "stream",
     "text": [
      "Acc: 84.44%\n",
      "Precision: 0.93\n",
      "Recall: 0.84\n",
      "F1 score: 0.89\n"
     ]
    }
   ],
   "source": [
    "# criar um segundo classificador com hiperparametros diferentes\n",
    "clf_2 = RandomForestClassifier(min_samples_leaf=30)\n",
    "clf_2.fit(X_train, y_train)\n",
    "y_preds_2 = clf_2.predict(X_valid)\n",
    "clf_2_metrics = evaluate_preds(y_valid, y_preds_2)"
   ]
  },
  {
   "cell_type": "markdown",
   "id": "e1c5ed90-f155-4214-92e9-8161d249b92d",
   "metadata": {},
   "source": [
    "### 5.2 ajustando hiperparâmetros com `RandomizedSearchCV`"
   ]
  },
  {
   "cell_type": "code",
   "execution_count": 58,
   "id": "d9479848-8ad6-4e44-84d5-95bbc6a30484",
   "metadata": {},
   "outputs": [],
   "source": [
    "from sklearn.model_selection import RandomizedSearchCV\n",
    "from sklearn.model_selection import train_test_split\n",
    "\n",
    "grid = {\"n_estimators\": [10, 100, 200, 500, 1000, 1200],\n",
    "        \"max_depth\": [None, 5, 10, 20, 30],\n",
    "        \"max_features\": [\"auto\", \"sqrt\"],\n",
    "        \"min_samples_split\": [2, 4, 6],\n",
    "        \"min_samples_leaf\": [1, 2, 4]}\n",
    "\n",
    "## como é cross_validation, não é necessário definir conjunto de validação\n",
    "X_train, X_test, y_train, y_test = train_test_split(X, y, test_size=0.2)\n",
    "\n",
    "clf = RandomForestClassifier()\n",
    "\n",
    "rs_clf = RandomizedSearchCV(estimator=clf,\n",
    "                            param_distributions=grid,\n",
    "                            n_iter=10,  # numero de modelos a tentar\n",
    "                            cv=5,\n",
    "                            verbose=0)  \n",
    "\n",
    "rs_clf.fit(X_train, y_train);"
   ]
  },
  {
   "cell_type": "code",
   "execution_count": 59,
   "id": "26f53ede-ceaf-4fea-8cff-220ca841a81c",
   "metadata": {},
   "outputs": [
    {
     "name": "stdout",
     "output_type": "stream",
     "text": [
      "{'n_estimators': 500, 'min_samples_split': 2, 'min_samples_leaf': 4, 'max_features': 'auto', 'max_depth': 5}\n",
      "Acc: 90.16%\n",
      "Precision: 0.92\n",
      "Recall: 0.92\n",
      "F1 score: 0.92\n"
     ]
    }
   ],
   "source": [
    "print(rs_clf.best_params_)\n",
    "rs_y_preds = rs_clf.predict(X_test)\n",
    "rs_metrics = evaluate_preds(y_test, rs_y_preds)"
   ]
  },
  {
   "cell_type": "code",
   "execution_count": null,
   "id": "68601f05-62f5-4c38-a11b-cc8f82ce785b",
   "metadata": {
    "jupyter": {
     "source_hidden": true
    },
    "tags": []
   },
   "outputs": [],
   "source": []
  },
  {
   "cell_type": "markdown",
   "id": "d05cb2d9-610f-40f0-9223-383d35fdf98a",
   "metadata": {},
   "source": [
    "### 5.3 ajustando hiperparâmetros com `GridSearchCV`"
   ]
  },
  {
   "cell_type": "code",
   "execution_count": 60,
   "id": "45f0cd90-1075-44e6-a914-2d73450f0051",
   "metadata": {},
   "outputs": [],
   "source": [
    "from sklearn.model_selection import GridSearchCV\n",
    "\n",
    "grid_2 = {\"n_estimators\": [100, 200, 500],\n",
    "         \"max_depth\": [None, 5, 10],\n",
    "         \"max_features\": [\"auto\", \"sqrt\"],\n",
    "         \"min_samples_split\": [4, 6, 8],\n",
    "         \"min_samples_leaf\": [1, 2]}\n",
    "\n",
    "gs_clf = GridSearchCV(estimator=clf,\n",
    "                      param_grid=grid_2,\n",
    "                      cv=5,)\n",
    "                      #verbose=2)  \n",
    "\n",
    "gs_clf.fit(X_train, y_train);"
   ]
  },
  {
   "cell_type": "code",
   "execution_count": 61,
   "id": "9605361d-04f8-431a-9b12-50bdb791b5ca",
   "metadata": {},
   "outputs": [
    {
     "name": "stdout",
     "output_type": "stream",
     "text": [
      "{'max_depth': None, 'max_features': 'auto', 'min_samples_leaf': 2, 'min_samples_split': 4, 'n_estimators': 200}\n",
      "Acc: 85.25%\n",
      "Precision: 0.89\n",
      "Recall: 0.87\n",
      "F1 score: 0.88\n"
     ]
    }
   ],
   "source": [
    "print(gs_clf.best_params_)\n",
    "gs_y_preds = gs_clf.predict(X_test)\n",
    "gs_metrics = evaluate_preds(y_test, gs_y_preds)"
   ]
  },
  {
   "cell_type": "markdown",
   "id": "8975a32d-36a7-4953-a4f7-9649ef5911ef",
   "metadata": {},
   "source": [
    "### 5.4 comparar métricas de diferentes modelos"
   ]
  },
  {
   "cell_type": "code",
   "execution_count": 62,
   "id": "ab529c1c-caef-4d9d-9479-730cf328bea6",
   "metadata": {},
   "outputs": [
    {
     "data": {
      "image/png": "[encoded data removed]",
      "text/plain": [
       "<Figure size 720x576 with 1 Axes>"
      ]
     },
     "metadata": {},
     "output_type": "display_data"
    }
   ],
   "source": [
    "compare_metrics = pd.DataFrame({ \"baseline\": baseline_metrics,\n",
    "                                 \"clf_2\": clf_2_metrics,\n",
    "                                 \"random_search\": rs_metrics,\n",
    "                                 \"grid_search\": gs_metrics})\n",
    "\n",
    "compare_metrics.plot.bar(figsize=(10, 8));"
   ]
  },
  {
   "cell_type": "markdown",
   "id": "3874aa18-bdcf-4aed-91fc-cf5553360e73",
   "metadata": {},
   "source": [
    "## 6. salvar e carregar um modelo\n",
    "\n",
    "Duas formas:\n",
    "### 6.1 usando o módulo `Pickle`"
   ]
  },
  {
   "cell_type": "code",
   "execution_count": 63,
   "id": "c33ddd97-0ed3-4590-a8af-a49f6d793551",
   "metadata": {},
   "outputs": [],
   "source": [
    "import pickle\n",
    "\n",
    "#salvar o modelo\n",
    "pickle.dump(gs_clf, open(\"gs_rf.pkl\", \"wb\"))"
   ]
  },
  {
   "cell_type": "code",
   "execution_count": 64,
   "id": "ea142490-6652-4fd6-b82d-7fe2bc4c0e9a",
   "metadata": {},
   "outputs": [
    {
     "name": "stdout",
     "output_type": "stream",
     "text": [
      "Acc: 85.25%\n",
      "Precision: 0.89\n",
      "Recall: 0.87\n",
      "F1 score: 0.88\n"
     ]
    },
    {
     "data": {
      "text/plain": [
       "{'accuracy': 0.85, 'precision': 0.89, 'recall': 0.87, 'f1': 0.88}"
      ]
     },
     "execution_count": 64,
     "metadata": {},
     "output_type": "execute_result"
    }
   ],
   "source": [
    "# carregar o modelo\n",
    "loaded_gs_clf = pickle.load(open(\"gs_rf.pkl\", \"rb\"))\n",
    "\n",
    "# fazer previsões\n",
    "pickle_y_preds = loaded_gs_clf.predict(X_test)\n",
    "evaluate_preds(y_test, pickle_y_preds)"
   ]
  },
  {
   "cell_type": "markdown",
   "id": "f0802a97-4b43-4998-b3c1-577b386ab7c0",
   "metadata": {},
   "source": [
    "### 6.2 usando o módulo `joblib`"
   ]
  },
  {
   "cell_type": "code",
   "execution_count": 65,
   "id": "41d448e5-e94b-4e0a-9155-b91ecdbfae73",
   "metadata": {},
   "outputs": [
    {
     "data": {
      "text/plain": [
       "['gs_rf.joblib']"
      ]
     },
     "execution_count": 65,
     "metadata": {},
     "output_type": "execute_result"
    }
   ],
   "source": [
    "from joblib import dump, load\n",
    "\n",
    "# salvar o modelo\n",
    "dump(gs_clf, filename=\"gs_rf.joblib\")"
   ]
  },
  {
   "cell_type": "code",
   "execution_count": 66,
   "id": "2d89faf4-c0f9-4647-804e-d7f0617e9fa4",
   "metadata": {},
   "outputs": [
    {
     "name": "stdout",
     "output_type": "stream",
     "text": [
      "Acc: 85.25%\n",
      "Precision: 0.89\n",
      "Recall: 0.87\n",
      "F1 score: 0.88\n"
     ]
    },
    {
     "data": {
      "text/plain": [
       "{'accuracy': 0.85, 'precision': 0.89, 'recall': 0.87, 'f1': 0.88}"
      ]
     },
     "execution_count": 66,
     "metadata": {},
     "output_type": "execute_result"
    }
   ],
   "source": [
    "# carregar o modelo joblib\n",
    "loaded_gs_clf_joblib = load(filename=\"gs_rf.joblib\")\n",
    "\n",
    "# fazer previsões e avaliar o modelo\n",
    "joblib_y_preds = loaded_gs_clf_joblib.predict(X_test)\n",
    "evaluate_preds(y_test, joblib_y_preds)"
   ]
  },
  {
   "cell_type": "markdown",
   "id": "b9a93eb4-77d4-44cd-8a86-b47ab9670692",
   "metadata": {},
   "source": [
    "## 7. juntando tudo\n",
    "### 7.1 sklearn pipeline"
   ]
  },
  {
   "cell_type": "code",
   "execution_count": 67,
   "id": "e5a6b695-68b9-419d-9efb-90e5951e4e4c",
   "metadata": {},
   "outputs": [],
   "source": [
    "# Standard imports\n",
    "import numpy as np\n",
    "import pandas as pd\n",
    "import matplotlib.pyplot as plt\n",
    "%matplotlib inline\n",
    "\n",
    "car_sales_missing = pd.read_csv(\"https://raw.githubusercontent.com/mrdbourke/zero-to-mastery-ml/master/data/car-sales-extended-missing-data.csv\")\n",
    "\n",
    "# Drop the rows with no labels\n",
    "car_sales_missing.dropna(subset=[\"Price\"], inplace=True)\n",
    "\n",
    "# Split data into X & y\n",
    "X = car_sales_missing.drop(\"Price\", axis=1)\n",
    "y = car_sales_missing[\"Price\"]"
   ]
  },
  {
   "cell_type": "code",
   "execution_count": 68,
   "id": "66b789a9-1e96-4ce8-9b27-dd781f04dd98",
   "metadata": {},
   "outputs": [],
   "source": [
    "from sklearn.pipeline import Pipeline\n",
    "from sklearn.impute import SimpleImputer # this will help us fill missing values\n",
    "from sklearn.preprocessing import OneHotEncoder # this will help us turn our categorical variables into numbers\n",
    "\n",
    "# Define categorical columns\n",
    "categorical_features = [\"Make\", \"Colour\"]\n",
    "# Create categorical transformer (imputes missing values, then one hot encodes them)\n",
    "categorical_transformer = Pipeline(steps=[\n",
    "  ('imputer', SimpleImputer(strategy='constant', fill_value='missing')),\n",
    "  ('onehot', OneHotEncoder(handle_unknown='ignore'))                                         \n",
    "])\n",
    "\n",
    "# Define door feature\n",
    "door_feature = [\"Doors\"]\n",
    "# Create door transformer (fills all door missing values with 4)\n",
    "door_transformer = Pipeline(steps=[\n",
    "  ('imputer', SimpleImputer(strategy='constant', fill_value=4)),\n",
    "])\n",
    "\n",
    "# Define numeric features\n",
    "numeric_features = [\"Odometer (KM)\"]\n",
    "# Create a transformer for filling all missing numeric values with the mean\n",
    "numeric_transformer = Pipeline(steps=[\n",
    "  ('imputer', SimpleImputer(strategy='mean'))  \n",
    "])"
   ]
  },
  {
   "cell_type": "code",
   "execution_count": 69,
   "id": "428f0867-2f36-4e2d-aa06-83a4c2e497f2",
   "metadata": {},
   "outputs": [],
   "source": [
    "from sklearn.compose import ColumnTransformer\n",
    "\n",
    "# Create a column transformer which combines all of the other transformers \n",
    "# into one step\n",
    "preprocessor = ColumnTransformer(\n",
    "    transformers=[\n",
    "      # (name, transformer_to_use, features_to_use transform)\n",
    "      ('categorical', categorical_transformer, categorical_features),\n",
    "      ('door', door_transformer, door_feature),\n",
    "      ('numerical', numeric_transformer, numeric_features)\n",
    "])"
   ]
  },
  {
   "cell_type": "code",
   "execution_count": 70,
   "id": "d67510bf-e99b-4a75-8b23-7e3ff442c80c",
   "metadata": {},
   "outputs": [],
   "source": [
    "from sklearn.ensemble import RandomForestRegressor\n",
    "\n",
    "# Create the preprocessing and modelling pipeline\n",
    "model = Pipeline(steps=[('preprocessor', preprocessor), # this will fill our missing data and make sure it's all numbers\n",
    "                        ('regressor', RandomForestRegressor())]) # this will model our data"
   ]
  },
  {
   "cell_type": "code",
   "execution_count": 71,
   "id": "5a2f8e79-6312-4b2f-8538-4b50b626d59e",
   "metadata": {},
   "outputs": [
    {
     "data": {
      "text/plain": [
       "Pipeline(steps=[('preprocessor',\n",
       "                 ColumnTransformer(transformers=[('categorical',\n",
       "                                                  Pipeline(steps=[('imputer',\n",
       "                                                                   SimpleImputer(fill_value='missing',\n",
       "                                                                                 strategy='constant')),\n",
       "                                                                  ('onehot',\n",
       "                                                                   OneHotEncoder(handle_unknown='ignore'))]),\n",
       "                                                  ['Make', 'Colour']),\n",
       "                                                 ('door',\n",
       "                                                  Pipeline(steps=[('imputer',\n",
       "                                                                   SimpleImputer(fill_value=4,\n",
       "                                                                                 strategy='constant'))]),\n",
       "                                                  ['Doors']),\n",
       "                                                 ('numerical',\n",
       "                                                  Pipeline(steps=[('imputer',\n",
       "                                                                   SimpleImputer())]),\n",
       "                                                  ['Odometer (KM)'])])),\n",
       "                ('regressor', RandomForestRegressor())])"
      ]
     },
     "execution_count": 71,
     "metadata": {},
     "output_type": "execute_result"
    }
   ],
   "source": [
    "from sklearn.model_selection import train_test_split\n",
    "\n",
    "# Split data into train and teset sets\n",
    "np.random.seed(42)\n",
    "X_train, X_test, y_train, y_test = train_test_split(X, y, test_size=0.2)\n",
    "\n",
    "# Fit the model on the training data \n",
    "# (note: when fit() is called with a Pipeline(), fit_transform() is used for transformers)\n",
    "model.fit(X_train, y_train)"
   ]
  },
  {
   "cell_type": "code",
   "execution_count": 72,
   "id": "518d6837-7ba6-4f72-a201-6dd02c046101",
   "metadata": {},
   "outputs": [
    {
     "data": {
      "text/plain": [
       "0.22188417408787875"
      ]
     },
     "execution_count": 72,
     "metadata": {},
     "output_type": "execute_result"
    }
   ],
   "source": [
    "# Score the model on the data \n",
    "# (note: when score() or  predict() is called with a Pipeline(), transform() is used for transformers)\n",
    "model.score(X_test, y_test)"
   ]
  },
  {
   "cell_type": "code",
   "execution_count": 73,
   "id": "e650681d-6210-4f94-bcf3-b5e156d639d3",
   "metadata": {},
   "outputs": [
    {
     "data": {
      "text/plain": [
       "0.22152985494597335"
      ]
     },
     "execution_count": 73,
     "metadata": {},
     "output_type": "execute_result"
    }
   ],
   "source": [
    "from sklearn.model_selection import cross_val_score\n",
    "\n",
    "# Cross-validate our pipeline model\n",
    "cross_val_score(model, X, y).mean()"
   ]
  }
 ],
 "metadata": {
  "kernelspec": {
   "display_name": "Python 3 (ipykernel)",
   "language": "python",
   "name": "python3"
  },
  "language_info": {
   "codemirror_mode": {
    "name": "ipython",
    "version": 3
   },
   "file_extension": ".py",
   "mimetype": "text/x-python",
   "name": "python",
   "nbconvert_exporter": "python",
   "pygments_lexer": "ipython3",
   "version": "3.9.7"
  }
 },
 "nbformat": 4,
 "nbformat_minor": 5
}
