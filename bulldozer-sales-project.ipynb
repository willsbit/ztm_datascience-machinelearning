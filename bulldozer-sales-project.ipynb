{
 "cells": [
  {
   "cell_type": "markdown",
   "id": "ceabb5e1-5f99-42f9-9dad-71d25be2cb8b",
   "metadata": {},
   "source": [
    "# Prevendo preços de escavadeiras com machine learning\n",
    "\n",
    "Passos:\n",
    "1. Definição do problema\n",
    "2. Definição dos dados\n",
    "3. Definir métrica de avaliação\n",
    "4. Definir as features\n",
    "5. Escolher o modelo\n",
    "6. Experimentação"
   ]
  },
  {
   "cell_type": "markdown",
   "id": "68d8d42f-8957-4602-9984-d3b3fd7c5703",
   "metadata": {},
   "source": [
    "## 1. Definição do problema\n",
    "Dados valores de venda passados, podemos prever por quanto uma escavadeira será vendida?\n",
    "\n",
    "## 2. Dados\n",
    "Fonte: Kaggle bluebook bulldozers.\n",
    "> Train.csv is the training set, which contains data through the end of 2011.\n",
    "\n",
    "> Valid.csv is the validation set, which contains data from January 1, 2012 - April 30, 2012 You make predictions on this set throughout the majority of the competition. Your score on this set is used to create the public leaderboard.\n",
    "\n",
    "> Test.csv is the test set, which won't be released until the last week of the competition. It contains data from May 1, 2012 - November 2012. Your score on the test set determines your final rank for the competition.\n",
    "\n",
    "## 3. Métrica de avaliação\n",
    "Minimizar o RMSLE (root mean squared log error)\n",
    "\n",
    "\n",
    "## 4. Features\n",
    "Data dictionary:\n",
    "    \n",
    "    SalesID\t  unique identifier of a particular sale of a machine at auction\n",
    "    MachineID\t  identifier for a particular machine;  machines may have multiple sales\n",
    "    ModelID\t  identifier for a unique machine model (i.e. fiModelDesc)\n",
    "    datasource\t  source of the sale record;  some sources are more diligent about reporting attributes of the machine than others.  Note that a particular datasource may report on multiple auctioneerIDs.\n",
    "    auctioneerID\t  identifier of a particular auctioneer, i.e. company that sold the machine at auction.  Not the same as datasource.\n",
    "    YearMade\t  year of manufacturer of the Machine\n",
    "    MachineHoursCurrentMeter\t  current usage of the machine in hours at time of sale (saledate);  null or 0 means no hours have been reported for that sale\n",
    "    UsageBand\t  value (low, medium, high) calculated comparing this particular Machine-Sale hours to average usage for the fiBaseModel;  e.g. 'Low' means this machine has less hours given it's lifespan relative to average of fiBaseModel.\n",
    "    Saledate\t  time of sale\n",
    "    Saleprice\t  cost of sale in USD\n",
    "    fiModelDesc\t  Description of a unique machine model (see ModelID); concatenation of fiBaseModel & fiSecondaryDesc & fiModelSeries & fiModelDescriptor\n",
    "    fiBaseModel\t  disaggregation of fiModelDesc\n",
    "    fiSecondaryDesc\t  disaggregation of fiModelDesc\n",
    "    fiModelSeries\t  disaggregation of fiModelDesc\n",
    "    fiModelDescriptor\t  disaggregation of fiModelDesc\n",
    "    ProductSize\t  Don't know what this is \n",
    "    ProductClassDesc\t  description of 2nd level hierarchical grouping (below ProductGroup) of fiModelDesc\n",
    "    State\t  US State in which sale occurred\n",
    "    ProductGroup\t  identifier for top-level hierarchical grouping of fiModelDesc\n",
    "    ProductGroupDesc\t  description of top-level hierarchical grouping of fiModelDesc\n",
    "    Drive_System\tmachine configuration;  typcially describes whether 2 or 4 wheel drive\n",
    "    Enclosure\tmachine configuration - does machine have an enclosed cab or not\n",
    "    Forks\tmachine configuration - attachment used for lifting\n",
    "    Pad_Type\tmachine configuration - type of treads a crawler machine uses\n",
    "    Ride_Control\tmachine configuration - optional feature on loaders to make the ride smoother\n",
    "    Stick\tmachine configuration - type of control \n",
    "    Transmission\tmachine configuration - describes type of transmission;  typically automatic or manual\n",
    "    Turbocharged\tmachine configuration - engine naturally aspirated or turbocharged\n",
    "    Blade_Extension\tmachine configuration - extension of standard blade\n",
    "    Blade_Width\tmachine configuration - width of blade\n",
    "    Enclosure_Type\tmachine configuration - does machine have an enclosed cab or not\n",
    "    Engine_Horsepower\tmachine configuration - engine horsepower rating\n",
    "    Hydraulics\tmachine configuration - type of hydraulics\n",
    "    Pushblock\tmachine configuration - option\n",
    "    Ripper\tmachine configuration - implement attached to machine to till soil\n",
    "    Scarifier\tmachine configuration - implement attached to machine to condition soil\n",
    "    Tip_control\tmachine configuration - type of blade control\n",
    "    Tire_Size\tmachine configuration - size of primary tires\n",
    "    Coupler\tmachine configuration - type of implement interface\n",
    "    Coupler_System\tmachine configuration - type of implement interface\n",
    "    Grouser_Tracks\tmachine configuration - describes ground contact interface\n",
    "    Hydraulics_Flow\tmachine configuration - normal or high flow hydraulic system\n",
    "    Track_Type\tmachine configuration - type of treads a crawler machine uses\n",
    "    Undercarriage_Pad_Width\tmachine configuration - width of crawler treads\n",
    "    Stick_Length\tmachine configuration - length of machine digging implement\n",
    "    Thumb\tmachine configuration - attachment used for grabbing\n",
    "    Pattern_Changer\tmachine configuration - can adjust the operator control configuration to suit the user\n",
    "    Grouser_Type\tmachine configuration - type of treads a crawler machine uses\n",
    "    Backhoe_Mounting\tmachine configuration - optional interface used to add a backhoe attachment\n",
    "    Blade_Type\tmachine configuration - describes type of blade\n",
    "    Travel_Controls\tmachine configuration - describes operator control configuration\n",
    "    Differential_Type\tmachine configuration - differential type, typically locking or standard\n",
    "    Steering_Controls\tmachine configuration - describes operator control configuration\n"
   ]
  },
  {
   "cell_type": "code",
   "execution_count": 1,
   "id": "9489b354-4581-4f10-b531-bd23b8964615",
   "metadata": {},
   "outputs": [],
   "source": [
    "# EDA\n",
    "import pandas as pd\n",
    "import numpy as np\n",
    "import matplotlib.pyplot as plt\n",
    "import seaborn as sns\n",
    "%matplotlib inline\n",
    "\n",
    "# modelos\n",
    "from sklearn.ensemble import RandomForestRegressor\n",
    "import pickle\n",
    "\n",
    "# evaluation\n",
    "from sklearn.model_selection import train_test_split, cross_val_score\n",
    "from sklearn.model_selection import RandomizedSearchCV, GridSearchCV\n",
    "from sklearn.metrics import confusion_matrix, classification_report\n",
    "from sklearn.metrics import precision_score, recall_score, f1_score\n",
    "from sklearn.metrics import plot_roc_curve"
   ]
  },
  {
   "cell_type": "code",
   "execution_count": 2,
   "id": "fcc3c13b-8295-4672-82a8-2ca4e42db15a",
   "metadata": {
    "tags": []
   },
   "outputs": [],
   "source": [
    "df = pd.read_csv(\"data/TrainAndValid.csv\", low_memory=False)"
   ]
  },
  {
   "cell_type": "code",
   "execution_count": 3,
   "id": "5d221ef8-77b3-494b-8845-378578a22429",
   "metadata": {},
   "outputs": [
    {
     "data": {
      "text/plain": [
       "SalesID                          0\n",
       "SalePrice                        0\n",
       "MachineID                        0\n",
       "ModelID                          0\n",
       "datasource                       0\n",
       "auctioneerID                 20136\n",
       "YearMade                         0\n",
       "MachineHoursCurrentMeter    265194\n",
       "UsageBand                   339028\n",
       "saledate                         0\n",
       "fiModelDesc                      0\n",
       "fiBaseModel                      0\n",
       "fiSecondaryDesc             140727\n",
       "fiModelSeries               354031\n",
       "fiModelDescriptor           337882\n",
       "ProductSize                 216605\n",
       "fiProductClassDesc               0\n",
       "state                            0\n",
       "ProductGroup                     0\n",
       "ProductGroupDesc                 0\n",
       "Drive_System                305611\n",
       "Enclosure                      334\n",
       "Forks                       214983\n",
       "Pad_Type                    331602\n",
       "Ride_Control                259970\n",
       "Stick                       331602\n",
       "Transmission                224691\n",
       "Turbocharged                331602\n",
       "Blade_Extension             386715\n",
       "Blade_Width                 386715\n",
       "Enclosure_Type              386715\n",
       "Engine_Horsepower           386715\n",
       "Hydraulics                   82565\n",
       "Pushblock                   386715\n",
       "Ripper                      305753\n",
       "Scarifier                   386704\n",
       "Tip_Control                 386715\n",
       "Tire_Size                   315060\n",
       "Coupler                     192019\n",
       "Coupler_System              367724\n",
       "Grouser_Tracks              367823\n",
       "Hydraulics_Flow             367823\n",
       "Track_Type                  310505\n",
       "Undercarriage_Pad_Width     309782\n",
       "Stick_Length                310437\n",
       "Thumb                       310366\n",
       "Pattern_Changer             310437\n",
       "Grouser_Type                310505\n",
       "Backhoe_Mounting            331986\n",
       "Blade_Type                  330823\n",
       "Travel_Controls             330821\n",
       "Differential_Type           341134\n",
       "Steering_Controls           341176\n",
       "dtype: int64"
      ]
     },
     "execution_count": 3,
     "metadata": {},
     "output_type": "execute_result"
    }
   ],
   "source": [
    "df.isna().sum()"
   ]
  },
  {
   "cell_type": "code",
   "execution_count": 4,
   "id": "793f8a0a-abca-42e8-be54-00d526f08579",
   "metadata": {},
   "outputs": [
    {
     "data": {
      "image/png": "[encoded data removed]",
      "text/plain": [
       "<Figure size 432x288 with 1 Axes>"
      ]
     },
     "metadata": {
      "needs_background": "light"
     },
     "output_type": "display_data"
    }
   ],
   "source": [
    "df.SalePrice.plot.hist();"
   ]
  },
  {
   "cell_type": "markdown",
   "id": "21e46b58-3a65-4604-85d7-7eacb0103341",
   "metadata": {},
   "source": [
    "## Parsing dates"
   ]
  },
  {
   "cell_type": "code",
   "execution_count": 5,
   "id": "e3749160-5c62-4d71-81c2-b6b6accd45c0",
   "metadata": {},
   "outputs": [],
   "source": [
    "df = pd.read_csv(\"data/TrainAndValid.csv\", \n",
    "                 low_memory=False, \n",
    "                 parse_dates=[\"saledate\"])"
   ]
  },
  {
   "cell_type": "code",
   "execution_count": 6,
   "id": "a4dc94c8-0248-494d-8840-12091d48418f",
   "metadata": {},
   "outputs": [
    {
     "data": {
      "image/png": "[encoded data removed]",
      "text/plain": [
       "<Figure size 432x288 with 1 Axes>"
      ]
     },
     "metadata": {
      "needs_background": "light"
     },
     "output_type": "display_data"
    }
   ],
   "source": [
    "fig, ax = plt.subplots()\n",
    "ax.scatter(df[\"saledate\"][:1000], df[\"SalePrice\"][:1000]);"
   ]
  },
  {
   "cell_type": "code",
   "execution_count": 7,
   "id": "4e16c830-105d-4a89-88ea-14fe933aa194",
   "metadata": {},
   "outputs": [],
   "source": [
    "df.sort_values(by=[\"saledate\"], inplace=True, ascending=True)"
   ]
  },
  {
   "cell_type": "markdown",
   "id": "c098ea93-7c8e-48ad-8418-bea0a0590939",
   "metadata": {},
   "source": [
    "## Feature engineering"
   ]
  },
  {
   "cell_type": "code",
   "execution_count": 8,
   "id": "03c03053-289a-4c2a-bc0d-13464c6ad67a",
   "metadata": {},
   "outputs": [],
   "source": [
    "# fazer uma cópia do DF original\n",
    "df_tmp = df.copy()"
   ]
  },
  {
   "cell_type": "markdown",
   "id": "149b83e0-2361-4df0-a59c-af8b13d95cd0",
   "metadata": {},
   "source": [
    "### Adicionar atributos `datetime` para a coluna `saledate`"
   ]
  },
  {
   "cell_type": "code",
   "execution_count": 10,
   "id": "8d4896c7-6abd-4f99-b39e-a9c3b8fe40ba",
   "metadata": {},
   "outputs": [],
   "source": [
    "df_tmp[\"saleYear\"] = df_tmp.saledate.dt.year\n",
    "df_tmp[\"saleMonth\"] = df_tmp.saledate.dt.month\n",
    "df_tmp[\"saleDay\"] = df_tmp.saledate.dt.day\n",
    "df_tmp[\"saleDayOfWeek\"] = df_tmp.saledate.dt.day_of_week\n",
    "df_tmp[\"saleDayOfYear\"] = df_tmp.saledate.dt.day_of_year\n",
    "\n",
    "df_tmp.drop(\"saledate\", axis=1, inplace=True)"
   ]
  },
  {
   "cell_type": "markdown",
   "id": "1cd73aa4-fec3-46cf-8047-41f6397e9ab8",
   "metadata": {
    "tags": []
   },
   "source": [
    "## Pré-processamento\n",
    "(model-driven EDA)"
   ]
  },
  {
   "cell_type": "code",
   "execution_count": null,
   "id": "3a6258f2-b112-485c-84e2-638f5f06470c",
   "metadata": {},
   "outputs": [],
   "source": [
    "clf = RandomForestRegressor(n_jobs=-1)\n",
    "\n",
    "X = df_tmp.drop(\"SalePrice\", axis=1)\n",
    "y = df_tmp[\"SalePrice\"]\n",
    "\n",
    "clf.fit(X, y)"
   ]
  },
  {
   "cell_type": "markdown",
   "id": "0298c83c-aa54-4026-a0d0-92bd51d49c89",
   "metadata": {},
   "source": [
    "### Converter strings em categorias"
   ]
  },
  {
   "cell_type": "code",
   "execution_count": 19,
   "id": "91d37128-60f6-41ca-a5f3-886fe993aca5",
   "metadata": {},
   "outputs": [
    {
     "name": "stdout",
     "output_type": "stream",
     "text": [
      "UsageBand\n",
      "fiModelDesc\n",
      "fiBaseModel\n",
      "fiSecondaryDesc\n",
      "fiModelSeries\n",
      "fiModelDescriptor\n",
      "ProductSize\n",
      "fiProductClassDesc\n",
      "state\n",
      "ProductGroup\n",
      "ProductGroupDesc\n",
      "Drive_System\n",
      "Enclosure\n",
      "Forks\n",
      "Pad_Type\n",
      "Ride_Control\n",
      "Stick\n",
      "Transmission\n",
      "Turbocharged\n",
      "Blade_Extension\n",
      "Blade_Width\n",
      "Enclosure_Type\n",
      "Engine_Horsepower\n",
      "Hydraulics\n",
      "Pushblock\n",
      "Ripper\n",
      "Scarifier\n",
      "Tip_Control\n",
      "Tire_Size\n",
      "Coupler\n",
      "Coupler_System\n",
      "Grouser_Tracks\n",
      "Hydraulics_Flow\n",
      "Track_Type\n",
      "Undercarriage_Pad_Width\n",
      "Stick_Length\n",
      "Thumb\n",
      "Pattern_Changer\n",
      "Grouser_Type\n",
      "Backhoe_Mounting\n",
      "Blade_Type\n",
      "Travel_Controls\n",
      "Differential_Type\n",
      "Steering_Controls\n"
     ]
    }
   ],
   "source": [
    "for label, content in df_tmp.items():\n",
    "    if pd.api.types.is_string_dtype(content):\n",
    "        print(label)"
   ]
  },
  {
   "cell_type": "code",
   "execution_count": 21,
   "id": "01cd21a1-fea4-48b4-afcc-c258f06ed7f5",
   "metadata": {},
   "outputs": [],
   "source": [
    "for label, content in df_tmp.items():\n",
    "    if pd.api.types.is_string_dtype(content):\n",
    "        df_tmp[label] = content.astype(\"category\").cat.as_ordered()\n",
    "    # agora as categorias tem um valor numérico associado a elas."
   ]
  },
  {
   "cell_type": "markdown",
   "id": "485c327e-a0b4-4274-9106-d5f125d4b34f",
   "metadata": {},
   "source": [
    "### Lidar com valores nulos"
   ]
  },
  {
   "cell_type": "code",
   "execution_count": 32,
   "id": "116322da-153a-4d65-aa94-9df5d4d33e80",
   "metadata": {},
   "outputs": [
    {
     "data": {
      "text/plain": [
       "SalesID                     0.000000\n",
       "SalePrice                   0.000000\n",
       "MachineID                   0.000000\n",
       "ModelID                     0.000000\n",
       "datasource                  0.000000\n",
       "auctioneerID                0.048791\n",
       "YearMade                    0.000000\n",
       "MachineHoursCurrentMeter    0.642586\n",
       "UsageBand                   0.821492\n",
       "fiModelDesc                 0.000000\n",
       "fiBaseModel                 0.000000\n",
       "fiSecondaryDesc             0.340993\n",
       "fiModelSeries               0.857845\n",
       "fiModelDescriptor           0.818715\n",
       "ProductSize                 0.524851\n",
       "fiProductClassDesc          0.000000\n",
       "state                       0.000000\n",
       "ProductGroup                0.000000\n",
       "ProductGroupDesc            0.000000\n",
       "Drive_System                0.740520\n",
       "Enclosure                   0.000809\n",
       "Forks                       0.520921\n",
       "Pad_Type                    0.803498\n",
       "Ride_Control                0.629928\n",
       "Stick                       0.803498\n",
       "Transmission                0.544444\n",
       "Turbocharged                0.803498\n",
       "Blade_Extension             0.937041\n",
       "Blade_Width                 0.937041\n",
       "Enclosure_Type              0.937041\n",
       "Engine_Horsepower           0.937041\n",
       "Hydraulics                  0.200062\n",
       "Pushblock                   0.937041\n",
       "Ripper                      0.740864\n",
       "Scarifier                   0.937014\n",
       "Tip_Control                 0.937041\n",
       "Tire_Size                   0.763415\n",
       "Coupler                     0.465277\n",
       "Coupler_System              0.891024\n",
       "Grouser_Tracks              0.891264\n",
       "Hydraulics_Flow             0.891264\n",
       "Track_Type                  0.752378\n",
       "Undercarriage_Pad_Width     0.750626\n",
       "Stick_Length                0.752213\n",
       "Thumb                       0.752041\n",
       "Pattern_Changer             0.752213\n",
       "Grouser_Type                0.752378\n",
       "Backhoe_Mounting            0.804428\n",
       "Blade_Type                  0.801610\n",
       "Travel_Controls             0.801606\n",
       "Differential_Type           0.826595\n",
       "Steering_Controls           0.826697\n",
       "saleYear                    0.000000\n",
       "saleMonth                   0.000000\n",
       "saleDay                     0.000000\n",
       "saleDayOfWeek               0.000000\n",
       "saleDayOfYear               0.000000\n",
       "dtype: float64"
      ]
     },
     "execution_count": 32,
     "metadata": {},
     "output_type": "execute_result"
    }
   ],
   "source": [
    "df_tmp.isna().sum()/len(df_tmp)  # porcentagem de valores nulos"
   ]
  },
  {
   "cell_type": "code",
   "execution_count": 34,
   "id": "ee8958ef-cf6c-42b2-babd-37d21cf80e36",
   "metadata": {},
   "outputs": [],
   "source": [
    "# salvar dados pré-processados\n",
    "df_tmp.to_csv('data/train_tmp.csv', index=False)"
   ]
  },
  {
   "cell_type": "code",
   "execution_count": 35,
   "id": "190ab7dc-5077-4f89-a0a0-35b8c77ec4ab",
   "metadata": {},
   "outputs": [],
   "source": [
    "df_tmp = pd.read_csv('data/train_tmp.csv', low_memory=False)"
   ]
  },
  {
   "cell_type": "markdown",
   "id": "7e1a4ef2-6491-45f1-9bba-21b100d3b13e",
   "metadata": {},
   "source": [
    "#### Valores numéricos"
   ]
  },
  {
   "cell_type": "code",
   "execution_count": 47,
   "id": "abfdb4aa-c768-41d0-b467-e4b42f0971ab",
   "metadata": {},
   "outputs": [
    {
     "name": "stdout",
     "output_type": "stream",
     "text": [
      "auctioneerID\n",
      "MachineHoursCurrentMeter\n"
     ]
    }
   ],
   "source": [
    "for label, content in df_tmp.items():\n",
    "    if pd.api.types.is_numeric_dtype(content)\\\n",
    "    and pd.isnull(content).sum():\n",
    "        print(label)"
   ]
  },
  {
   "cell_type": "code",
   "execution_count": 50,
   "id": "a0745571-a73c-4432-a1de-b8233383b2bd",
   "metadata": {},
   "outputs": [],
   "source": [
    "for label, content in df_tmp.items():\n",
    "    if pd.api.types.is_numeric_dtype(content)\\\n",
    "    and pd.isnull(content).sum():\n",
    "        # adicionar coluna que diz se o dado era faltante ou não\n",
    "        df_tmp[label+\"_is_missing\"] = pd.isnull(content)\n",
    "        # preencher valores com a mediana\n",
    "        df_tmp[label] = content.fillna(content.median())"
   ]
  },
  {
   "cell_type": "markdown",
   "id": "3cf5a515-bb48-4cbd-8a02-5c350c32d064",
   "metadata": {},
   "source": [
    "#### Valores categóricos"
   ]
  },
  {
   "cell_type": "code",
   "execution_count": 52,
   "id": "0489aa63-3790-4d22-9af3-181e5cb6ca85",
   "metadata": {},
   "outputs": [
    {
     "name": "stdout",
     "output_type": "stream",
     "text": [
      "UsageBand\n",
      "fiModelDesc\n",
      "fiBaseModel\n",
      "fiSecondaryDesc\n",
      "fiModelSeries\n",
      "fiModelDescriptor\n",
      "ProductSize\n",
      "fiProductClassDesc\n",
      "state\n",
      "ProductGroup\n",
      "ProductGroupDesc\n",
      "Drive_System\n",
      "Enclosure\n",
      "Forks\n",
      "Pad_Type\n",
      "Ride_Control\n",
      "Stick\n",
      "Transmission\n",
      "Turbocharged\n",
      "Blade_Extension\n",
      "Blade_Width\n",
      "Enclosure_Type\n",
      "Engine_Horsepower\n",
      "Hydraulics\n",
      "Pushblock\n",
      "Ripper\n",
      "Scarifier\n",
      "Tip_Control\n",
      "Tire_Size\n",
      "Coupler\n",
      "Coupler_System\n",
      "Grouser_Tracks\n",
      "Hydraulics_Flow\n",
      "Track_Type\n",
      "Undercarriage_Pad_Width\n",
      "Stick_Length\n",
      "Thumb\n",
      "Pattern_Changer\n",
      "Grouser_Type\n",
      "Backhoe_Mounting\n",
      "Blade_Type\n",
      "Travel_Controls\n",
      "Differential_Type\n",
      "Steering_Controls\n"
     ]
    }
   ],
   "source": [
    "for label, content in df_tmp.items():\n",
    "    if not pd.api.types.is_numeric_dtype(content):\n",
    "        print(label)"
   ]
  },
  {
   "cell_type": "code",
   "execution_count": 58,
   "id": "0ff8cd63-3a36-4ef3-a891-8c7ffbf0a7f7",
   "metadata": {},
   "outputs": [
    {
     "data": {
      "text/plain": [
       "array([43,  8,  8, ...,  4,  4,  4], dtype=int8)"
      ]
     },
     "execution_count": 58,
     "metadata": {},
     "output_type": "execute_result"
    }
   ],
   "source": [
    "pd.Categorical(df_tmp[\"state\"]).codes"
   ]
  },
  {
   "cell_type": "code",
   "execution_count": 69,
   "id": "224e955d-53e8-42a9-a297-33efba1a5793",
   "metadata": {},
   "outputs": [],
   "source": [
    "# transformar valores categóricos em números e preencher os faltantes\n",
    "for label, content in df_tmp.items():\n",
    "    if not pd.api.types.is_numeric_dtype(content):\n",
    "        df_tmp[label+\"_is_missing\"] = pd.isnull(content)\n",
    "        df_tmp[label] = pd.Categorical(content).codes + 1\n",
    "        # +1 porque o default para categoria null é -1"
   ]
  },
  {
   "cell_type": "markdown",
   "id": "3ef3ba54-8d2a-4648-b8a3-11609605a211",
   "metadata": {},
   "source": [
    "## Criar train, val, test e treinar o modelo"
   ]
  },
  {
   "cell_type": "code",
   "execution_count": 75,
   "id": "a581696f-ac0a-402c-810e-c47db691effc",
   "metadata": {},
   "outputs": [],
   "source": [
    "# fazer train e val\n",
    "df_val = df_tmp[df_tmp.saleYear == 2012]\n",
    "df_train = df_tmp[df_tmp.saleYear != 2012]"
   ]
  },
  {
   "cell_type": "code",
   "execution_count": 77,
   "id": "8a1feab3-1c25-42de-b9bc-4b8e45d028a3",
   "metadata": {},
   "outputs": [],
   "source": [
    "X_train, y_train = df_train.drop(\"SalePrice\", axis=1), df_train.SalePrice\n",
    "X_valid, y_valid = df_val.drop(\"SalePrice\", axis=1), df_val.SalePrice"
   ]
  },
  {
   "cell_type": "markdown",
   "id": "bfa7b580-7884-48ab-88e0-309002eb9fc5",
   "metadata": {},
   "source": [
    "### Definindo função para calcular métrica de avaliação"
   ]
  },
  {
   "cell_type": "code",
   "execution_count": null,
   "id": "12f573a2-5654-40e4-bee7-647a2073c29e",
   "metadata": {},
   "outputs": [],
   "source": [
    "from sklearn.metrics import mean_squared_log_error, mean_absolute_error, r2_score\n",
    "\n",
    "def rmslse(y_test, y_preds):\n",
    "    \"\"\"\n",
    "    Calcula o root mean squared log error entre previsões e labels verdadeiras.\n",
    "    \"\"\"\n",
    "    return np.sqrt(mean_squared_log_error(y_test, y_preds))\n",
    "\n",
    "def show_scores(model):\n",
    "    train_preds = model.predict(X_train)\n",
    "    val_preds = model.predict(X_valid)\n",
    "    scores = {\"Train MAE:\": mean_absolute_error(y_train, train_preds):.2f,\n",
    "              \"Valid MAE:\": mean_absolute_error(y_valid, val_preds):.2f,\n",
    "              \"Training RMSLE:\": rmslse(y_train, train_preds):.2f,\n",
    "              \"Valid RMSLE:\": rmslse(y_valid, val_preds):.2f,\n",
    "              \"Training R²\": r2_score(y_train, train_preds):.2f,\n",
    "              \"Valid R²\": r2_score(y_valid, val_preds):.2f}\n",
    "    \n",
    "    return scores"
   ]
  },
  {
   "cell_type": "markdown",
   "id": "f675c4a7-8ac1-4b0b-b9b1-5623e77d0143",
   "metadata": {},
   "source": [
    "### Reduzir conjunto de dados para fazer experimentos com o modelo"
   ]
  },
  {
   "cell_type": "code",
   "execution_count": 91,
   "id": "a2d7bac5-f3a6-4807-9461-0318fa2cfe84",
   "metadata": {},
   "outputs": [
    {
     "name": "stdout",
     "output_type": "stream",
     "text": [
      "CPU times: total: 28min 57s\n",
      "Wall time: 3min 47s\n"
     ]
    },
    {
     "data": {
      "text/plain": [
       "0.8733639609039089"
      ]
     },
     "execution_count": 91,
     "metadata": {},
     "output_type": "execute_result"
    }
   ],
   "source": [
    "%%time\n",
    "clf = RandomForestRegressor(n_jobs=-1)\n",
    "# isso demora muito tempo para rodar\n",
    "clf.fit(X_train, y_train)\n",
    "clf.score(X_valid, y_valid)"
   ]
  },
  {
   "cell_type": "markdown",
   "id": "a52920d9-92a5-42a2-b391-db0b41ae0d21",
   "metadata": {},
   "source": [
    "No RandomForest, podemos mudar `max_samples` para diminuir o tamanho do conjunto utilizado.\n",
    "\n",
    "Outra opção seria fazer `clf.score(X_valid[:50000], y_valid[:10000]))`"
   ]
  },
  {
   "cell_type": "code",
   "execution_count": 101,
   "id": "ba82aec7-3ae2-4228-9577-15ad575960fc",
   "metadata": {},
   "outputs": [
    {
     "name": "stdout",
     "output_type": "stream",
     "text": [
      "CPU times: total: 5min 12s\n",
      "Wall time: 45.5 s\n"
     ]
    },
    {
     "data": {
      "text/plain": [
       "0.8655894086930488"
      ]
     },
     "execution_count": 101,
     "metadata": {},
     "output_type": "execute_result"
    }
   ],
   "source": [
    "%%time\n",
    "clf = RandomForestRegressor(n_jobs=-1, max_samples=10000)\n",
    "clf.fit(X_train, y_train)\n",
    "clf.score(X_valid, y_valid)"
   ]
  },
  {
   "cell_type": "code",
   "execution_count": 103,
   "id": "0af7ce8d-c806-4fdd-95cb-804a3b375067",
   "metadata": {},
   "outputs": [
    {
     "data": {
      "text/plain": [
       "{'Train MAE:': 4296.612969847304,\n",
       " 'Valid MAE:': 6373.797323943662,\n",
       " 'Training RMSLE:': 0.20581375373730093,\n",
       " 'Valid RMSLE:': 0.26318817103817055,\n",
       " 'Training R²': 0.9139145258899182,\n",
       " 'Valid R²': 0.8655894086930488}"
      ]
     },
     "execution_count": 103,
     "metadata": {},
     "output_type": "execute_result"
    }
   ],
   "source": [
    "show_scores(clf)"
   ]
  },
  {
   "cell_type": "markdown",
   "id": "d4dd518f-91d2-4877-8af5-fbac0ebca2df",
   "metadata": {},
   "source": [
    "## Ajuste de hiperparâmteros"
   ]
  },
  {
   "cell_type": "code",
   "execution_count": 110,
   "id": "49948ccd-e996-4997-85c1-539ae3312d96",
   "metadata": {},
   "outputs": [
    {
     "name": "stdout",
     "output_type": "stream",
     "text": [
      "CPU times: total: 0 ns\n",
      "Wall time: 0 ns\n",
      "Fitting 5 folds for each of 2 candidates, totalling 10 fits\n"
     ]
    },
    {
     "data": {
      "text/plain": [
       "RandomizedSearchCV(cv=5, estimator=RandomForestRegressor(n_jobs=-1), n_iter=2,\n",
       "                   param_distributions={'max_depth': [None, 3, 5, 10],\n",
       "                                        'max_features': [0.5, 1, 'sqrt',\n",
       "                                                         'auto'],\n",
       "                                        'max_samples': [10000],\n",
       "                                        'min_samples_leaf': array([ 1,  3,  5,  7,  9, 11, 13, 15, 17, 19]),\n",
       "                                        'min_samples_split': array([ 2,  4,  6,  8, 10, 12, 14, 16, 18]),\n",
       "                                        'n_estimators': array([10, 20, 30, 40, 50, 60, 70, 80, 90])},\n",
       "                   verbose=True)"
      ]
     },
     "execution_count": 110,
     "metadata": {},
     "output_type": "execute_result"
    }
   ],
   "source": [
    "from sklearn.model_selection import RandomizedSearchCV\n",
    "\n",
    "rf_grid = {\"n_estimators\": np.arange(10, 100, 10),\n",
    "           \"max_depth\": [None, 3, 5 , 10],\n",
    "           \"min_samples_split\": np.arange(2, 20, 2),\n",
    "           \"min_samples_leaf\": np.arange(1, 20, 2),\n",
    "           \"max_features\": [0.5, 1, \"sqrt\", \"auto\"],\n",
    "           \"max_samples\": [10000]}\n",
    "\n",
    "rs_clf = RandomizedSearchCV(RandomForestRegressor(n_jobs=-1,),\n",
    "                           param_distributions=rf_grid,\n",
    "                           n_iter=2,\n",
    "                           cv=5,\n",
    "                           verbose=True)\n",
    "\n",
    "rs_clf.fit(X_train, y_train)"
   ]
  },
  {
   "cell_type": "code",
   "execution_count": 111,
   "id": "97b35827-5c80-4b11-8338-99218de71b51",
   "metadata": {},
   "outputs": [
    {
     "data": {
      "text/plain": [
       "{'Train MAE:': 11889.736036240121,\n",
       " 'Valid MAE:': 14014.741741545147,\n",
       " 'Training RMSLE:': 0.5132812204601368,\n",
       " 'Valid RMSLE:': 0.5345739814679863,\n",
       " 'Training R²': 0.47328269292044167,\n",
       " 'Valid R²': 0.44524755553201956}"
      ]
     },
     "execution_count": 111,
     "metadata": {},
     "output_type": "execute_result"
    }
   ],
   "source": [
    "show_scores(rs_clf)"
   ]
  },
  {
   "cell_type": "code",
   "execution_count": 113,
   "id": "6ac2bfd2-449c-4e27-a9eb-a3380df27c91",
   "metadata": {},
   "outputs": [
    {
     "name": "stdout",
     "output_type": "stream",
     "text": [
      "CPU times: total: 6min 40s\n",
      "Wall time: 1min 4s\n"
     ]
    },
    {
     "data": {
      "text/plain": [
       "RandomForestRegressor(max_features=0.5, min_samples_split=14, n_estimators=40,\n",
       "                      n_jobs=-1)"
      ]
     },
     "execution_count": 113,
     "metadata": {},
     "output_type": "execute_result"
    }
   ],
   "source": [
    "%%time\n",
    "\n",
    "\"\"\"\n",
    "parâmetros ideais (do curso)\n",
    "\"\"\"\n",
    "ideal_model = RandomForestRegressor(n_estimators=40,\n",
    "                                    min_samples_leaf=1,\n",
    "                                    min_samples_split=14,\n",
    "                                    max_features=0.5,\n",
    "                                    n_jobs=-1,\n",
    "                                    max_samples=None)\n",
    "\n",
    "ideal_model.fit(X_train, y_train)"
   ]
  },
  {
   "cell_type": "code",
   "execution_count": 114,
   "id": "176c4f63-3ffb-40d1-b110-9429ba551401",
   "metadata": {},
   "outputs": [
    {
     "data": {
      "text/plain": [
       "{'Train MAE:': 2950.134633747029,\n",
       " 'Valid MAE:': 5930.853672541581,\n",
       " 'Training RMSLE:': 0.1444559444117412,\n",
       " 'Valid RMSLE:': 0.24543585869527584,\n",
       " 'Training R²': 0.9590792499642242,\n",
       " 'Valid R²': 0.8829711062001365}"
      ]
     },
     "execution_count": 114,
     "metadata": {},
     "output_type": "execute_result"
    }
   ],
   "source": [
    "show_scores(ideal_model)"
   ]
  },
  {
   "cell_type": "markdown",
   "id": "65cca3a7-9c52-4e83-989c-d4b500f744e8",
   "metadata": {},
   "source": [
    "## Fazer previsões no conjunto de testes"
   ]
  },
  {
   "cell_type": "code",
   "execution_count": 140,
   "id": "236e32ea-b090-4544-9dcf-f7d9b4a7de84",
   "metadata": {},
   "outputs": [],
   "source": [
    "df_test = pd.read_csv('data/Train.csv', \n",
    "                      low_memory=False, \n",
    "                      parse_dates=[\"saledate\"])"
   ]
  },
  {
   "cell_type": "markdown",
   "id": "26e10278-6d4f-412a-a8ee-7d836a28eb71",
   "metadata": {},
   "source": [
    "### Preprocessamento dos dados de teste"
   ]
  },
  {
   "cell_type": "code",
   "execution_count": 141,
   "id": "82152ba8-d3cd-41a8-a7aa-f939d02a01fd",
   "metadata": {},
   "outputs": [],
   "source": [
    "def preprocess_data(df):\n",
    "    \"\"\"\n",
    "    Pre-processa e transforma um dataframe.\n",
    "    \"\"\"\n",
    "    df[\"saleYear\"] = df.saledate.dt.year\n",
    "    df[\"saleMonth\"] = df.saledate.dt.month\n",
    "    df[\"saleDay\"] = df.saledate.dt.day\n",
    "    df[\"saleDayOfWeek\"] = df.saledate.dt.day_of_week\n",
    "    df[\"saleDayOfYear\"] = df.saledate.dt.day_of_year\n",
    "    df.drop(\"saledate\", axis=1, inplace=True)\n",
    "    df.drop(\"SalePrice\", axis=1, inplace=True)\n",
    "\n",
    "    \n",
    "    for label, content in df.items():\n",
    "        if pd.api.types.is_numeric_dtype(content)\\\n",
    "        and pd.isnull(content).sum():\n",
    "            # adicionar coluna que diz se o dado era faltante ou não\n",
    "            df[label+\"_is_missing\"] = pd.isnull(content)\n",
    "            # preencher valores com a mediana\n",
    "            df[label] = content.fillna(content.median())\n",
    "\n",
    "    # transformar valores categóricos em números e preencher os faltantes\n",
    "        if not pd.api.types.is_numeric_dtype(content):\n",
    "            df[label+\"_is_missing\"] = pd.isnull(content)\n",
    "            df[label] = pd.Categorical(content).codes + 1\n",
    "            # +1 porque o default para categoria null é -1\n",
    "        \n",
    "        #ajustar df_test para ter a coluna auctioneerID_is_missing\n",
    "        df_test[\"auctioneerID_is_missing\"] = False\n",
    "\n",
    "    return df"
   ]
  },
  {
   "cell_type": "markdown",
   "id": "bea36b34-2d19-44cf-bbad-c6ab583144f1",
   "metadata": {},
   "source": [
    "### Fazer previsões e formatá-las"
   ]
  },
  {
   "cell_type": "code",
   "execution_count": 142,
   "id": "3be7de07-b08c-4957-a3cf-66f4b2e4badb",
   "metadata": {},
   "outputs": [],
   "source": [
    "df_test = preprocess_data(df_test)\n",
    "test_preds = ideal_model.predict(df_test)"
   ]
  },
  {
   "cell_type": "code",
   "execution_count": 146,
   "id": "eff85d7d-14b2-4127-b1f1-9d1fc5eb5df6",
   "metadata": {},
   "outputs": [
    {
     "data": {
      "text/html": [
       "<div>\n",
       "<style scoped>\n",
       "    .dataframe tbody tr th:only-of-type {\n",
       "        vertical-align: middle;\n",
       "    }\n",
       "\n",
       "    .dataframe tbody tr th {\n",
       "        vertical-align: top;\n",
       "    }\n",
       "\n",
       "    .dataframe thead th {\n",
       "        text-align: right;\n",
       "    }\n",
       "</style>\n",
       "<table border=\"1\" class=\"dataframe\">\n",
       "  <thead>\n",
       "    <tr style=\"text-align: right;\">\n",
       "      <th></th>\n",
       "      <th>SalesID</th>\n",
       "      <th>SalesPrice</th>\n",
       "    </tr>\n",
       "  </thead>\n",
       "  <tbody>\n",
       "    <tr>\n",
       "      <th>0</th>\n",
       "      <td>1139246</td>\n",
       "      <td>62012.162169</td>\n",
       "    </tr>\n",
       "    <tr>\n",
       "      <th>1</th>\n",
       "      <td>1139248</td>\n",
       "      <td>50147.051662</td>\n",
       "    </tr>\n",
       "    <tr>\n",
       "      <th>2</th>\n",
       "      <td>1139249</td>\n",
       "      <td>11748.870839</td>\n",
       "    </tr>\n",
       "    <tr>\n",
       "      <th>3</th>\n",
       "      <td>1139251</td>\n",
       "      <td>32840.363315</td>\n",
       "    </tr>\n",
       "    <tr>\n",
       "      <th>4</th>\n",
       "      <td>1139253</td>\n",
       "      <td>12698.550038</td>\n",
       "    </tr>\n",
       "  </tbody>\n",
       "</table>\n",
       "</div>"
      ],
      "text/plain": [
       "   SalesID    SalesPrice\n",
       "0  1139246  62012.162169\n",
       "1  1139248  50147.051662\n",
       "2  1139249  11748.870839\n",
       "3  1139251  32840.363315\n",
       "4  1139253  12698.550038"
      ]
     },
     "execution_count": 146,
     "metadata": {},
     "output_type": "execute_result"
    }
   ],
   "source": [
    "df_preds = pd.DataFrame()\n",
    "df_preds[\"SalesID\"] = df_test[\"SalesID\"]\n",
    "df_preds[\"SalesPrice\"] = test_preds\n",
    "df_preds.head()"
   ]
  },
  {
   "cell_type": "code",
   "execution_count": 147,
   "id": "8f27202b-1513-49d7-a390-587615439d65",
   "metadata": {},
   "outputs": [],
   "source": [
    "df_preds.to_csv(\"data/test_predictions.csv\", index=False)"
   ]
  },
  {
   "cell_type": "markdown",
   "id": "d6329699-923b-4ec1-8e9f-a13645ccb59d",
   "metadata": {},
   "source": [
    "### Feature importance"
   ]
  },
  {
   "cell_type": "code",
   "execution_count": 149,
   "id": "f8a24697-3007-43f1-b878-b4ffcc2fd805",
   "metadata": {},
   "outputs": [
    {
     "data": {
      "text/plain": [
       "array([0.03374135, 0.01893898, 0.04688974, 0.00176184, 0.00336251,\n",
       "       0.19642113, 0.00316105, 0.00105485, 0.03950097, 0.05066652])"
      ]
     },
     "execution_count": 149,
     "metadata": {},
     "output_type": "execute_result"
    }
   ],
   "source": [
    "ideal_model.feature_importances_[:10]"
   ]
  },
  {
   "cell_type": "code",
   "execution_count": 152,
   "id": "1b825ac7-6414-4b17-a948-a3a113991ab8",
   "metadata": {},
   "outputs": [],
   "source": [
    "def plot_features(columns, importances, n=20):\n",
    "    df=(pd.DataFrame({\"features\": columns,\n",
    "                      \"feature_importances\": importances})\n",
    "       .sort_values(\"feature_importances\", ascending=False)\n",
    "       .reset_index(drop=True))\n",
    "    \n",
    "    fig, ax = plt.subplots()\n",
    "    ax.barh(df[\"features\"][:n], df[\"feature_importances\"][:n])\n",
    "    ax.set_ylabel(\"Features\")\n",
    "    ax.set_xlabel(\"Feature Importance\")\n",
    "    ax.invert_yaxis()"
   ]
  },
  {
   "cell_type": "code",
   "execution_count": 153,
   "id": "3bc21af5-2421-4f2a-a226-feb63eb1d617",
   "metadata": {},
   "outputs": [
    {
     "data": {
      "image/png": "[encoded data removed]",
      "text/plain": [
       "<Figure size 432x288 with 1 Axes>"
      ]
     },
     "metadata": {
      "needs_background": "light"
     },
     "output_type": "display_data"
    }
   ],
   "source": [
    "plot_features(X_train.columns, ideal_model.feature_importances_)"
   ]
  }
 ],
 "metadata": {
  "kernelspec": {
   "display_name": "Python 3 (ipykernel)",
   "language": "python",
   "name": "python3"
  },
  "language_info": {
   "codemirror_mode": {
    "name": "ipython",
    "version": 3
   },
   "file_extension": ".py",
   "mimetype": "text/x-python",
   "name": "python",
   "nbconvert_exporter": "python",
   "pygments_lexer": "ipython3",
   "version": "3.9.7"
  }
 },
 "nbformat": 4,
 "nbformat_minor": 5
}
